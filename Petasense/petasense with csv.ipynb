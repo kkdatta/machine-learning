{
 "cells": [
  {
   "cell_type": "code",
   "execution_count": 1,
   "metadata": {
    "collapsed": true
   },
   "outputs": [],
   "source": [
    "import csv\n",
    "import os\n",
    "import pandas as pd\n",
    "import numpy as np\n",
    "import matplotlib.pyplot as plt\n",
    "from sklearn.model_selection  import train_test_split\n",
    "from sklearn import linear_model\n",
    "from sklearn.linear_model import LogisticRegression\n",
    "from sklearn.ensemble import RandomForestClassifier\n",
    "from sklearn.metrics import accuracy_score\n",
    "from sklearn import svm\n",
    "from sklearn import preprocessing\n",
    "from sklearn.metrics import confusion_matrix"
   ]
  },
  {
   "cell_type": "code",
   "execution_count": 2,
   "metadata": {
    "collapsed": false
   },
   "outputs": [],
   "source": [
    "df = pd.read_csv('features_data.csv')"
   ]
  },
  {
   "cell_type": "code",
   "execution_count": 3,
   "metadata": {
    "collapsed": false
   },
   "outputs": [
    {
     "name": "stderr",
     "output_type": "stream",
     "text": [
      "/home/shubham/anaconda2/lib/python2.7/site-packages/ipykernel/__main__.py:1: FutureWarning: sort(columns=....) is deprecated, use sort_values(by=.....)\n",
      "  if __name__ == '__main__':\n"
     ]
    }
   ],
   "source": [
    "features_data = df.sort('timestamp')"
   ]
  },
  {
   "cell_type": "code",
   "execution_count": 4,
   "metadata": {
    "collapsed": false
   },
   "outputs": [
    {
     "data": {
      "text/html": [
       "<div>\n",
       "<table border=\"1\" class=\"dataframe\">\n",
       "  <thead>\n",
       "    <tr style=\"text-align: right;\">\n",
       "      <th></th>\n",
       "      <th>Unnamed: 0</th>\n",
       "      <th>timestamp</th>\n",
       "      <th>x_acc_cf</th>\n",
       "      <th>x_acc_p2p</th>\n",
       "      <th>x_acc_peak</th>\n",
       "      <th>x_acc_rms</th>\n",
       "      <th>x_acc_shaft1x</th>\n",
       "      <th>x_acc_shaft2x</th>\n",
       "      <th>x_acc_shaft3x</th>\n",
       "      <th>x_acc_shaft3xto10xsum</th>\n",
       "      <th>...</th>\n",
       "      <th>z_acc_shaft3x</th>\n",
       "      <th>z_acc_shaft3xto10xsum</th>\n",
       "      <th>z_vel_cf</th>\n",
       "      <th>z_vel_p2p</th>\n",
       "      <th>z_vel_peak</th>\n",
       "      <th>z_vel_rms</th>\n",
       "      <th>z_vel_shaft1x</th>\n",
       "      <th>z_vel_shaft2x</th>\n",
       "      <th>z_vel_shaft3x</th>\n",
       "      <th>z_vel_shaft3xto10xsum</th>\n",
       "    </tr>\n",
       "  </thead>\n",
       "  <tbody>\n",
       "    <tr>\n",
       "      <th>916</th>\n",
       "      <td>916</td>\n",
       "      <td>2016-04-25 11:49:28</td>\n",
       "      <td>3.903191</td>\n",
       "      <td>1.225533</td>\n",
       "      <td>0.636245</td>\n",
       "      <td>0.163006</td>\n",
       "      <td>0.071948</td>\n",
       "      <td>0.054743</td>\n",
       "      <td>0.017191</td>\n",
       "      <td>0.085824</td>\n",
       "      <td>...</td>\n",
       "      <td>0.022512</td>\n",
       "      <td>0.102806</td>\n",
       "      <td>2.451221</td>\n",
       "      <td>12.767854</td>\n",
       "      <td>6.703367</td>\n",
       "      <td>2.734706</td>\n",
       "      <td>3.176619</td>\n",
       "      <td>0.200449</td>\n",
       "      <td>0.196440</td>\n",
       "      <td>0.647047</td>\n",
       "    </tr>\n",
       "    <tr>\n",
       "      <th>917</th>\n",
       "      <td>917</td>\n",
       "      <td>2016-04-25 14:49:34</td>\n",
       "      <td>3.930911</td>\n",
       "      <td>0.761220</td>\n",
       "      <td>0.388983</td>\n",
       "      <td>0.098955</td>\n",
       "      <td>0.057149</td>\n",
       "      <td>0.027294</td>\n",
       "      <td>0.004860</td>\n",
       "      <td>0.049142</td>\n",
       "      <td>...</td>\n",
       "      <td>0.011718</td>\n",
       "      <td>0.033943</td>\n",
       "      <td>2.140221</td>\n",
       "      <td>9.747912</td>\n",
       "      <td>4.999015</td>\n",
       "      <td>2.335747</td>\n",
       "      <td>3.162190</td>\n",
       "      <td>0.047695</td>\n",
       "      <td>0.102206</td>\n",
       "      <td>0.196012</td>\n",
       "    </tr>\n",
       "    <tr>\n",
       "      <th>918</th>\n",
       "      <td>918</td>\n",
       "      <td>2016-04-25 17:49:39</td>\n",
       "      <td>4.161250</td>\n",
       "      <td>0.848132</td>\n",
       "      <td>0.442576</td>\n",
       "      <td>0.106356</td>\n",
       "      <td>0.052243</td>\n",
       "      <td>0.022981</td>\n",
       "      <td>0.003703</td>\n",
       "      <td>0.039185</td>\n",
       "      <td>...</td>\n",
       "      <td>0.008876</td>\n",
       "      <td>0.027538</td>\n",
       "      <td>2.313496</td>\n",
       "      <td>9.629319</td>\n",
       "      <td>5.042790</td>\n",
       "      <td>2.179727</td>\n",
       "      <td>2.588635</td>\n",
       "      <td>0.083741</td>\n",
       "      <td>0.077680</td>\n",
       "      <td>0.159285</td>\n",
       "    </tr>\n",
       "    <tr>\n",
       "      <th>919</th>\n",
       "      <td>919</td>\n",
       "      <td>2016-04-25 20:49:43</td>\n",
       "      <td>4.138266</td>\n",
       "      <td>1.005279</td>\n",
       "      <td>0.513804</td>\n",
       "      <td>0.124159</td>\n",
       "      <td>0.051388</td>\n",
       "      <td>0.035749</td>\n",
       "      <td>0.006357</td>\n",
       "      <td>0.044378</td>\n",
       "      <td>...</td>\n",
       "      <td>0.009249</td>\n",
       "      <td>0.034718</td>\n",
       "      <td>2.677693</td>\n",
       "      <td>11.760224</td>\n",
       "      <td>6.496227</td>\n",
       "      <td>2.426054</td>\n",
       "      <td>2.883996</td>\n",
       "      <td>0.088031</td>\n",
       "      <td>0.080232</td>\n",
       "      <td>0.193030</td>\n",
       "    </tr>\n",
       "    <tr>\n",
       "      <th>920</th>\n",
       "      <td>920</td>\n",
       "      <td>2016-04-25 23:49:48</td>\n",
       "      <td>4.468325</td>\n",
       "      <td>1.042656</td>\n",
       "      <td>0.568799</td>\n",
       "      <td>0.127296</td>\n",
       "      <td>0.055974</td>\n",
       "      <td>0.035657</td>\n",
       "      <td>0.004367</td>\n",
       "      <td>0.039532</td>\n",
       "      <td>...</td>\n",
       "      <td>0.007997</td>\n",
       "      <td>0.025544</td>\n",
       "      <td>2.137463</td>\n",
       "      <td>9.232612</td>\n",
       "      <td>4.650337</td>\n",
       "      <td>2.175634</td>\n",
       "      <td>2.634484</td>\n",
       "      <td>0.098633</td>\n",
       "      <td>0.069684</td>\n",
       "      <td>0.151457</td>\n",
       "    </tr>\n",
       "  </tbody>\n",
       "</table>\n",
       "<p>5 rows × 50 columns</p>\n",
       "</div>"
      ],
      "text/plain": [
       "     Unnamed: 0            timestamp  x_acc_cf  x_acc_p2p  x_acc_peak  \\\n",
       "916         916  2016-04-25 11:49:28  3.903191   1.225533    0.636245   \n",
       "917         917  2016-04-25 14:49:34  3.930911   0.761220    0.388983   \n",
       "918         918  2016-04-25 17:49:39  4.161250   0.848132    0.442576   \n",
       "919         919  2016-04-25 20:49:43  4.138266   1.005279    0.513804   \n",
       "920         920  2016-04-25 23:49:48  4.468325   1.042656    0.568799   \n",
       "\n",
       "     x_acc_rms  x_acc_shaft1x  x_acc_shaft2x  x_acc_shaft3x  \\\n",
       "916   0.163006       0.071948       0.054743       0.017191   \n",
       "917   0.098955       0.057149       0.027294       0.004860   \n",
       "918   0.106356       0.052243       0.022981       0.003703   \n",
       "919   0.124159       0.051388       0.035749       0.006357   \n",
       "920   0.127296       0.055974       0.035657       0.004367   \n",
       "\n",
       "     x_acc_shaft3xto10xsum          ...            z_acc_shaft3x  \\\n",
       "916               0.085824          ...                 0.022512   \n",
       "917               0.049142          ...                 0.011718   \n",
       "918               0.039185          ...                 0.008876   \n",
       "919               0.044378          ...                 0.009249   \n",
       "920               0.039532          ...                 0.007997   \n",
       "\n",
       "     z_acc_shaft3xto10xsum  z_vel_cf  z_vel_p2p  z_vel_peak  z_vel_rms  \\\n",
       "916               0.102806  2.451221  12.767854    6.703367   2.734706   \n",
       "917               0.033943  2.140221   9.747912    4.999015   2.335747   \n",
       "918               0.027538  2.313496   9.629319    5.042790   2.179727   \n",
       "919               0.034718  2.677693  11.760224    6.496227   2.426054   \n",
       "920               0.025544  2.137463   9.232612    4.650337   2.175634   \n",
       "\n",
       "     z_vel_shaft1x  z_vel_shaft2x  z_vel_shaft3x  z_vel_shaft3xto10xsum  \n",
       "916       3.176619       0.200449       0.196440               0.647047  \n",
       "917       3.162190       0.047695       0.102206               0.196012  \n",
       "918       2.588635       0.083741       0.077680               0.159285  \n",
       "919       2.883996       0.088031       0.080232               0.193030  \n",
       "920       2.634484       0.098633       0.069684               0.151457  \n",
       "\n",
       "[5 rows x 50 columns]"
      ]
     },
     "execution_count": 4,
     "metadata": {},
     "output_type": "execute_result"
    }
   ],
   "source": [
    "features_data.head()"
   ]
  },
  {
   "cell_type": "code",
   "execution_count": 5,
   "metadata": {
    "collapsed": false
   },
   "outputs": [],
   "source": [
    "features = features_data.drop(['Unnamed: 0', 'timestamp'], axis = 1)"
   ]
  },
  {
   "cell_type": "code",
   "execution_count": 6,
   "metadata": {
    "collapsed": false
   },
   "outputs": [
    {
     "data": {
      "text/html": [
       "<div>\n",
       "<table border=\"1\" class=\"dataframe\">\n",
       "  <thead>\n",
       "    <tr style=\"text-align: right;\">\n",
       "      <th></th>\n",
       "      <th>x_acc_cf</th>\n",
       "      <th>x_acc_p2p</th>\n",
       "      <th>x_acc_peak</th>\n",
       "      <th>x_acc_rms</th>\n",
       "      <th>x_acc_shaft1x</th>\n",
       "      <th>x_acc_shaft2x</th>\n",
       "      <th>x_acc_shaft3x</th>\n",
       "      <th>x_acc_shaft3xto10xsum</th>\n",
       "      <th>x_vel_cf</th>\n",
       "      <th>x_vel_p2p</th>\n",
       "      <th>...</th>\n",
       "      <th>z_acc_shaft3x</th>\n",
       "      <th>z_acc_shaft3xto10xsum</th>\n",
       "      <th>z_vel_cf</th>\n",
       "      <th>z_vel_p2p</th>\n",
       "      <th>z_vel_peak</th>\n",
       "      <th>z_vel_rms</th>\n",
       "      <th>z_vel_shaft1x</th>\n",
       "      <th>z_vel_shaft2x</th>\n",
       "      <th>z_vel_shaft3x</th>\n",
       "      <th>z_vel_shaft3xto10xsum</th>\n",
       "    </tr>\n",
       "  </thead>\n",
       "  <tbody>\n",
       "    <tr>\n",
       "      <th>916</th>\n",
       "      <td>3.903191</td>\n",
       "      <td>1.225533</td>\n",
       "      <td>0.636245</td>\n",
       "      <td>0.163006</td>\n",
       "      <td>0.071948</td>\n",
       "      <td>0.054743</td>\n",
       "      <td>0.017191</td>\n",
       "      <td>0.085824</td>\n",
       "      <td>2.745169</td>\n",
       "      <td>10.990631</td>\n",
       "      <td>...</td>\n",
       "      <td>0.022512</td>\n",
       "      <td>0.102806</td>\n",
       "      <td>2.451221</td>\n",
       "      <td>12.767854</td>\n",
       "      <td>6.703367</td>\n",
       "      <td>2.734706</td>\n",
       "      <td>3.176619</td>\n",
       "      <td>0.200449</td>\n",
       "      <td>0.196440</td>\n",
       "      <td>0.647047</td>\n",
       "    </tr>\n",
       "    <tr>\n",
       "      <th>917</th>\n",
       "      <td>3.930911</td>\n",
       "      <td>0.761220</td>\n",
       "      <td>0.388983</td>\n",
       "      <td>0.098955</td>\n",
       "      <td>0.057149</td>\n",
       "      <td>0.027294</td>\n",
       "      <td>0.004860</td>\n",
       "      <td>0.049142</td>\n",
       "      <td>2.669736</td>\n",
       "      <td>5.980987</td>\n",
       "      <td>...</td>\n",
       "      <td>0.011718</td>\n",
       "      <td>0.033943</td>\n",
       "      <td>2.140221</td>\n",
       "      <td>9.747912</td>\n",
       "      <td>4.999015</td>\n",
       "      <td>2.335747</td>\n",
       "      <td>3.162190</td>\n",
       "      <td>0.047695</td>\n",
       "      <td>0.102206</td>\n",
       "      <td>0.196012</td>\n",
       "    </tr>\n",
       "    <tr>\n",
       "      <th>918</th>\n",
       "      <td>4.161250</td>\n",
       "      <td>0.848132</td>\n",
       "      <td>0.442576</td>\n",
       "      <td>0.106356</td>\n",
       "      <td>0.052243</td>\n",
       "      <td>0.022981</td>\n",
       "      <td>0.003703</td>\n",
       "      <td>0.039185</td>\n",
       "      <td>2.662218</td>\n",
       "      <td>6.929793</td>\n",
       "      <td>...</td>\n",
       "      <td>0.008876</td>\n",
       "      <td>0.027538</td>\n",
       "      <td>2.313496</td>\n",
       "      <td>9.629319</td>\n",
       "      <td>5.042790</td>\n",
       "      <td>2.179727</td>\n",
       "      <td>2.588635</td>\n",
       "      <td>0.083741</td>\n",
       "      <td>0.077680</td>\n",
       "      <td>0.159285</td>\n",
       "    </tr>\n",
       "    <tr>\n",
       "      <th>919</th>\n",
       "      <td>4.138266</td>\n",
       "      <td>1.005279</td>\n",
       "      <td>0.513804</td>\n",
       "      <td>0.124159</td>\n",
       "      <td>0.051388</td>\n",
       "      <td>0.035749</td>\n",
       "      <td>0.006357</td>\n",
       "      <td>0.044378</td>\n",
       "      <td>2.802976</td>\n",
       "      <td>7.128366</td>\n",
       "      <td>...</td>\n",
       "      <td>0.009249</td>\n",
       "      <td>0.034718</td>\n",
       "      <td>2.677693</td>\n",
       "      <td>11.760224</td>\n",
       "      <td>6.496227</td>\n",
       "      <td>2.426054</td>\n",
       "      <td>2.883996</td>\n",
       "      <td>0.088031</td>\n",
       "      <td>0.080232</td>\n",
       "      <td>0.193030</td>\n",
       "    </tr>\n",
       "    <tr>\n",
       "      <th>920</th>\n",
       "      <td>4.468325</td>\n",
       "      <td>1.042656</td>\n",
       "      <td>0.568799</td>\n",
       "      <td>0.127296</td>\n",
       "      <td>0.055974</td>\n",
       "      <td>0.035657</td>\n",
       "      <td>0.004367</td>\n",
       "      <td>0.039532</td>\n",
       "      <td>2.856010</td>\n",
       "      <td>7.291679</td>\n",
       "      <td>...</td>\n",
       "      <td>0.007997</td>\n",
       "      <td>0.025544</td>\n",
       "      <td>2.137463</td>\n",
       "      <td>9.232612</td>\n",
       "      <td>4.650337</td>\n",
       "      <td>2.175634</td>\n",
       "      <td>2.634484</td>\n",
       "      <td>0.098633</td>\n",
       "      <td>0.069684</td>\n",
       "      <td>0.151457</td>\n",
       "    </tr>\n",
       "  </tbody>\n",
       "</table>\n",
       "<p>5 rows × 48 columns</p>\n",
       "</div>"
      ],
      "text/plain": [
       "     x_acc_cf  x_acc_p2p  x_acc_peak  x_acc_rms  x_acc_shaft1x  x_acc_shaft2x  \\\n",
       "916  3.903191   1.225533    0.636245   0.163006       0.071948       0.054743   \n",
       "917  3.930911   0.761220    0.388983   0.098955       0.057149       0.027294   \n",
       "918  4.161250   0.848132    0.442576   0.106356       0.052243       0.022981   \n",
       "919  4.138266   1.005279    0.513804   0.124159       0.051388       0.035749   \n",
       "920  4.468325   1.042656    0.568799   0.127296       0.055974       0.035657   \n",
       "\n",
       "     x_acc_shaft3x  x_acc_shaft3xto10xsum  x_vel_cf  x_vel_p2p  \\\n",
       "916       0.017191               0.085824  2.745169  10.990631   \n",
       "917       0.004860               0.049142  2.669736   5.980987   \n",
       "918       0.003703               0.039185  2.662218   6.929793   \n",
       "919       0.006357               0.044378  2.802976   7.128366   \n",
       "920       0.004367               0.039532  2.856010   7.291679   \n",
       "\n",
       "             ...            z_acc_shaft3x  z_acc_shaft3xto10xsum  z_vel_cf  \\\n",
       "916          ...                 0.022512               0.102806  2.451221   \n",
       "917          ...                 0.011718               0.033943  2.140221   \n",
       "918          ...                 0.008876               0.027538  2.313496   \n",
       "919          ...                 0.009249               0.034718  2.677693   \n",
       "920          ...                 0.007997               0.025544  2.137463   \n",
       "\n",
       "     z_vel_p2p  z_vel_peak  z_vel_rms  z_vel_shaft1x  z_vel_shaft2x  \\\n",
       "916  12.767854    6.703367   2.734706       3.176619       0.200449   \n",
       "917   9.747912    4.999015   2.335747       3.162190       0.047695   \n",
       "918   9.629319    5.042790   2.179727       2.588635       0.083741   \n",
       "919  11.760224    6.496227   2.426054       2.883996       0.088031   \n",
       "920   9.232612    4.650337   2.175634       2.634484       0.098633   \n",
       "\n",
       "     z_vel_shaft3x  z_vel_shaft3xto10xsum  \n",
       "916       0.196440               0.647047  \n",
       "917       0.102206               0.196012  \n",
       "918       0.077680               0.159285  \n",
       "919       0.080232               0.193030  \n",
       "920       0.069684               0.151457  \n",
       "\n",
       "[5 rows x 48 columns]"
      ]
     },
     "execution_count": 6,
     "metadata": {},
     "output_type": "execute_result"
    }
   ],
   "source": [
    "features.head()"
   ]
  },
  {
   "cell_type": "code",
   "execution_count": 7,
   "metadata": {
    "collapsed": false
   },
   "outputs": [
    {
     "data": {
      "text/plain": [
       "PCA(copy=True, iterated_power='auto', n_components=5, random_state=None,\n",
       "  svd_solver='auto', tol=0.0, whiten=False)"
      ]
     },
     "execution_count": 7,
     "metadata": {},
     "output_type": "execute_result"
    }
   ],
   "source": [
    "from sklearn.decomposition import PCA\n",
    "pca = PCA(n_components = 5)\n",
    "pca.fit(features)"
   ]
  },
  {
   "cell_type": "code",
   "execution_count": 8,
   "metadata": {
    "collapsed": false
   },
   "outputs": [
    {
     "name": "stdout",
     "output_type": "stream",
     "text": [
      "[ 0.63425731  0.14417752  0.09583945  0.05018117  0.02664752]\n"
     ]
    }
   ],
   "source": [
    "print(pca.explained_variance_ratio_)"
   ]
  },
  {
   "cell_type": "code",
   "execution_count": 9,
   "metadata": {
    "collapsed": false
   },
   "outputs": [],
   "source": [
    "features_new = pca.transform(features)"
   ]
  },
  {
   "cell_type": "code",
   "execution_count": 10,
   "metadata": {
    "collapsed": true
   },
   "outputs": [],
   "source": [
    "%matplotlib inline\n",
    "import matplotlib.pyplot as plt\n",
    "from sklearn.decomposition import PCA"
   ]
  },
  {
   "cell_type": "code",
   "execution_count": 11,
   "metadata": {
    "collapsed": false
   },
   "outputs": [
    {
     "data": {
      "text/plain": [
       "<matplotlib.text.Text at 0x7f58206a4c10>"
      ]
     },
     "execution_count": 11,
     "metadata": {},
     "output_type": "execute_result"
    },
    {
     "data": {
      "image/png": "[encoded data removed]",
      "text/plain": [
       "<matplotlib.figure.Figure at 0x7f58546ee050>"
      ]
     },
     "metadata": {},
     "output_type": "display_data"
    }
   ],
   "source": [
    "plt.figure()\n",
    "plt.scatter(features_new[:, 0], features_new[:,1], marker='x')\n",
    "plt.xlabel('PC1')\n",
    "plt.ylabel('PC2')\n",
    "plt.title('Cartesian coordinate PCA')"
   ]
  },
  {
   "cell_type": "code",
   "execution_count": 12,
   "metadata": {
    "collapsed": true
   },
   "outputs": [],
   "source": [
    "features_df = pd.DataFrame(features_new)"
   ]
  },
  {
   "cell_type": "code",
   "execution_count": 13,
   "metadata": {
    "collapsed": false
   },
   "outputs": [
    {
     "data": {
      "text/html": [
       "<div>\n",
       "<table border=\"1\" class=\"dataframe\">\n",
       "  <thead>\n",
       "    <tr style=\"text-align: right;\">\n",
       "      <th></th>\n",
       "      <th>0</th>\n",
       "      <th>1</th>\n",
       "      <th>2</th>\n",
       "      <th>3</th>\n",
       "      <th>4</th>\n",
       "    </tr>\n",
       "  </thead>\n",
       "  <tbody>\n",
       "    <tr>\n",
       "      <th>0</th>\n",
       "      <td>2.151916</td>\n",
       "      <td>-0.678912</td>\n",
       "      <td>1.062950</td>\n",
       "      <td>1.331556</td>\n",
       "      <td>0.975780</td>\n",
       "    </tr>\n",
       "    <tr>\n",
       "      <th>1</th>\n",
       "      <td>-4.061705</td>\n",
       "      <td>5.612440</td>\n",
       "      <td>2.035588</td>\n",
       "      <td>0.393836</td>\n",
       "      <td>-1.886367</td>\n",
       "    </tr>\n",
       "    <tr>\n",
       "      <th>2</th>\n",
       "      <td>-3.415980</td>\n",
       "      <td>0.799900</td>\n",
       "      <td>-0.950916</td>\n",
       "      <td>0.903888</td>\n",
       "      <td>-0.414995</td>\n",
       "    </tr>\n",
       "    <tr>\n",
       "      <th>3</th>\n",
       "      <td>-1.691408</td>\n",
       "      <td>7.297119</td>\n",
       "      <td>4.153357</td>\n",
       "      <td>-0.444040</td>\n",
       "      <td>-0.244204</td>\n",
       "    </tr>\n",
       "    <tr>\n",
       "      <th>4</th>\n",
       "      <td>-3.530006</td>\n",
       "      <td>0.267161</td>\n",
       "      <td>-0.532192</td>\n",
       "      <td>1.292108</td>\n",
       "      <td>-0.507775</td>\n",
       "    </tr>\n",
       "  </tbody>\n",
       "</table>\n",
       "</div>"
      ],
      "text/plain": [
       "          0         1         2         3         4\n",
       "0  2.151916 -0.678912  1.062950  1.331556  0.975780\n",
       "1 -4.061705  5.612440  2.035588  0.393836 -1.886367\n",
       "2 -3.415980  0.799900 -0.950916  0.903888 -0.414995\n",
       "3 -1.691408  7.297119  4.153357 -0.444040 -0.244204\n",
       "4 -3.530006  0.267161 -0.532192  1.292108 -0.507775"
      ]
     },
     "execution_count": 13,
     "metadata": {},
     "output_type": "execute_result"
    }
   ],
   "source": [
    "features_df.head()"
   ]
  },
  {
   "cell_type": "code",
   "execution_count": 14,
   "metadata": {
    "collapsed": true
   },
   "outputs": [],
   "source": [
    "size = len(features_df)"
   ]
  },
  {
   "cell_type": "code",
   "execution_count": 15,
   "metadata": {
    "collapsed": false
   },
   "outputs": [
    {
     "data": {
      "text/plain": [
       "2550"
      ]
     },
     "execution_count": 15,
     "metadata": {},
     "output_type": "execute_result"
    }
   ],
   "source": [
    "size"
   ]
  },
  {
   "cell_type": "code",
   "execution_count": 16,
   "metadata": {
    "collapsed": false
   },
   "outputs": [],
   "source": [
    "baseline_size = int(0.2 * size)"
   ]
  },
  {
   "cell_type": "code",
   "execution_count": 17,
   "metadata": {
    "collapsed": false
   },
   "outputs": [
    {
     "data": {
      "text/plain": [
       "510"
      ]
     },
     "execution_count": 17,
     "metadata": {},
     "output_type": "execute_result"
    }
   ],
   "source": [
    "baseline_size"
   ]
  },
  {
   "cell_type": "code",
   "execution_count": 18,
   "metadata": {
    "collapsed": false
   },
   "outputs": [],
   "source": [
    "X_train = features_df.head(n = baseline_size)"
   ]
  },
  {
   "cell_type": "code",
   "execution_count": 19,
   "metadata": {
    "collapsed": true
   },
   "outputs": [],
   "source": [
    "X_test = features_df.tail(size-baseline_size)"
   ]
  },
  {
   "cell_type": "code",
   "execution_count": 20,
   "metadata": {
    "collapsed": true
   },
   "outputs": [],
   "source": [
    "X_train_copy = X_train.copy(deep = True)\n",
    "X_test_copy = X_test.copy(deep = True)"
   ]
  },
  {
   "cell_type": "code",
   "execution_count": 21,
   "metadata": {
    "collapsed": false
   },
   "outputs": [],
   "source": [
    "X_train_copy['health'] = np.nan\n",
    "X_test_copy['health'] = np.nan"
   ]
  },
  {
   "cell_type": "code",
   "execution_count": 22,
   "metadata": {
    "collapsed": false
   },
   "outputs": [
    {
     "data": {
      "text/html": [
       "<div>\n",
       "<table border=\"1\" class=\"dataframe\">\n",
       "  <thead>\n",
       "    <tr style=\"text-align: right;\">\n",
       "      <th></th>\n",
       "      <th>0</th>\n",
       "      <th>1</th>\n",
       "      <th>2</th>\n",
       "      <th>3</th>\n",
       "      <th>4</th>\n",
       "    </tr>\n",
       "  </thead>\n",
       "  <tbody>\n",
       "    <tr>\n",
       "      <th>0</th>\n",
       "      <td>2.151916</td>\n",
       "      <td>-0.678912</td>\n",
       "      <td>1.062950</td>\n",
       "      <td>1.331556</td>\n",
       "      <td>0.975780</td>\n",
       "    </tr>\n",
       "    <tr>\n",
       "      <th>1</th>\n",
       "      <td>-4.061705</td>\n",
       "      <td>5.612440</td>\n",
       "      <td>2.035588</td>\n",
       "      <td>0.393836</td>\n",
       "      <td>-1.886367</td>\n",
       "    </tr>\n",
       "    <tr>\n",
       "      <th>2</th>\n",
       "      <td>-3.415980</td>\n",
       "      <td>0.799900</td>\n",
       "      <td>-0.950916</td>\n",
       "      <td>0.903888</td>\n",
       "      <td>-0.414995</td>\n",
       "    </tr>\n",
       "    <tr>\n",
       "      <th>3</th>\n",
       "      <td>-1.691408</td>\n",
       "      <td>7.297119</td>\n",
       "      <td>4.153357</td>\n",
       "      <td>-0.444040</td>\n",
       "      <td>-0.244204</td>\n",
       "    </tr>\n",
       "    <tr>\n",
       "      <th>4</th>\n",
       "      <td>-3.530006</td>\n",
       "      <td>0.267161</td>\n",
       "      <td>-0.532192</td>\n",
       "      <td>1.292108</td>\n",
       "      <td>-0.507775</td>\n",
       "    </tr>\n",
       "  </tbody>\n",
       "</table>\n",
       "</div>"
      ],
      "text/plain": [
       "          0         1         2         3         4\n",
       "0  2.151916 -0.678912  1.062950  1.331556  0.975780\n",
       "1 -4.061705  5.612440  2.035588  0.393836 -1.886367\n",
       "2 -3.415980  0.799900 -0.950916  0.903888 -0.414995\n",
       "3 -1.691408  7.297119  4.153357 -0.444040 -0.244204\n",
       "4 -3.530006  0.267161 -0.532192  1.292108 -0.507775"
      ]
     },
     "execution_count": 22,
     "metadata": {},
     "output_type": "execute_result"
    }
   ],
   "source": [
    "X_train.head()"
   ]
  },
  {
   "cell_type": "code",
   "execution_count": 23,
   "metadata": {
    "collapsed": false
   },
   "outputs": [
    {
     "name": "stdout",
     "output_type": "stream",
     "text": [
      "0.9\n",
      "0.8\n",
      "0.7\n",
      "0.6\n",
      "0.5\n",
      "0.4\n",
      "0.3\n",
      "0.2\n",
      "0.1\n"
     ]
    }
   ],
   "source": [
    "import math\n",
    "nu_range = range(9, 0, -1)\n",
    "for nu in nu_range:\n",
    "    nu_updated = nu * 0.1\n",
    "    print nu_updated\n",
    "    clf = svm.OneClassSVM(kernel = \"rbf\", gamma = 0.1, nu = nu_updated)\n",
    "    clf.fit(X_train)\n",
    "    y_pred_train = clf.predict(X_train)\n",
    "    y_pred_test = clf.predict(X_test)\n",
    "    X_train_copy['anomaly'] = pd.DataFrame(y_pred_train)\n",
    "    X_test_copy['anomaly'] = pd.DataFrame(y_pred_test)\n",
    "    for index, row in X_train_copy.iterrows():\n",
    "        if row['anomaly'] == 1 and math.isnan(row['health']):\n",
    "            row['health'] = nu + 1\n",
    "    for index1, row1 in X_test_copy.iterrows():\n",
    "        if row1['anomaly'] == 1 and math.isnan(row1['health']):\n",
    "            row1['health'] = nu + 1"
   ]
  },
  {
   "cell_type": "code",
   "execution_count": 24,
   "metadata": {
    "collapsed": true
   },
   "outputs": [],
   "source": [
    "for index, row in X_train_copy.iterrows():\n",
    "    if math.isnan(row['health']):\n",
    "            row['health'] = 1\n",
    "for index, row in X_test_copy.iterrows():\n",
    "    if math.isnan(row['health']):\n",
    "            row['health'] = 1"
   ]
  },
  {
   "cell_type": "code",
   "execution_count": 25,
   "metadata": {
    "collapsed": false
   },
   "outputs": [
    {
     "data": {
      "text/html": [
       "<div>\n",
       "<table border=\"1\" class=\"dataframe\">\n",
       "  <thead>\n",
       "    <tr style=\"text-align: right;\">\n",
       "      <th></th>\n",
       "      <th>0</th>\n",
       "      <th>1</th>\n",
       "      <th>2</th>\n",
       "      <th>3</th>\n",
       "      <th>4</th>\n",
       "      <th>health</th>\n",
       "      <th>anomaly</th>\n",
       "    </tr>\n",
       "  </thead>\n",
       "  <tbody>\n",
       "    <tr>\n",
       "      <th>count</th>\n",
       "      <td>510.000000</td>\n",
       "      <td>510.000000</td>\n",
       "      <td>510.000000</td>\n",
       "      <td>510.000000</td>\n",
       "      <td>510.000000</td>\n",
       "      <td>510.00000</td>\n",
       "      <td>510.000000</td>\n",
       "    </tr>\n",
       "    <tr>\n",
       "      <th>mean</th>\n",
       "      <td>-1.290638</td>\n",
       "      <td>1.033781</td>\n",
       "      <td>-0.033156</td>\n",
       "      <td>0.130054</td>\n",
       "      <td>-0.035180</td>\n",
       "      <td>5.50000</td>\n",
       "      <td>0.811765</td>\n",
       "    </tr>\n",
       "    <tr>\n",
       "      <th>std</th>\n",
       "      <td>1.339166</td>\n",
       "      <td>1.923918</td>\n",
       "      <td>1.477551</td>\n",
       "      <td>0.653893</td>\n",
       "      <td>0.459896</td>\n",
       "      <td>2.86963</td>\n",
       "      <td>0.584558</td>\n",
       "    </tr>\n",
       "    <tr>\n",
       "      <th>min</th>\n",
       "      <td>-5.238858</td>\n",
       "      <td>-1.280220</td>\n",
       "      <td>-2.737714</td>\n",
       "      <td>-1.788521</td>\n",
       "      <td>-1.886367</td>\n",
       "      <td>1.00000</td>\n",
       "      <td>-1.000000</td>\n",
       "    </tr>\n",
       "    <tr>\n",
       "      <th>25%</th>\n",
       "      <td>-2.195054</td>\n",
       "      <td>0.008438</td>\n",
       "      <td>-0.927955</td>\n",
       "      <td>-0.310551</td>\n",
       "      <td>-0.348968</td>\n",
       "      <td>3.00000</td>\n",
       "      <td>1.000000</td>\n",
       "    </tr>\n",
       "    <tr>\n",
       "      <th>50%</th>\n",
       "      <td>-1.293918</td>\n",
       "      <td>0.458764</td>\n",
       "      <td>-0.435944</td>\n",
       "      <td>0.084983</td>\n",
       "      <td>-0.044151</td>\n",
       "      <td>5.50000</td>\n",
       "      <td>1.000000</td>\n",
       "    </tr>\n",
       "    <tr>\n",
       "      <th>75%</th>\n",
       "      <td>-0.350806</td>\n",
       "      <td>1.045626</td>\n",
       "      <td>0.285493</td>\n",
       "      <td>0.564746</td>\n",
       "      <td>0.233624</td>\n",
       "      <td>8.00000</td>\n",
       "      <td>1.000000</td>\n",
       "    </tr>\n",
       "    <tr>\n",
       "      <th>max</th>\n",
       "      <td>3.514466</td>\n",
       "      <td>8.777026</td>\n",
       "      <td>5.783990</td>\n",
       "      <td>2.807821</td>\n",
       "      <td>1.634785</td>\n",
       "      <td>10.00000</td>\n",
       "      <td>1.000000</td>\n",
       "    </tr>\n",
       "  </tbody>\n",
       "</table>\n",
       "</div>"
      ],
      "text/plain": [
       "                0           1           2           3           4     health  \\\n",
       "count  510.000000  510.000000  510.000000  510.000000  510.000000  510.00000   \n",
       "mean    -1.290638    1.033781   -0.033156    0.130054   -0.035180    5.50000   \n",
       "std      1.339166    1.923918    1.477551    0.653893    0.459896    2.86963   \n",
       "min     -5.238858   -1.280220   -2.737714   -1.788521   -1.886367    1.00000   \n",
       "25%     -2.195054    0.008438   -0.927955   -0.310551   -0.348968    3.00000   \n",
       "50%     -1.293918    0.458764   -0.435944    0.084983   -0.044151    5.50000   \n",
       "75%     -0.350806    1.045626    0.285493    0.564746    0.233624    8.00000   \n",
       "max      3.514466    8.777026    5.783990    2.807821    1.634785   10.00000   \n",
       "\n",
       "          anomaly  \n",
       "count  510.000000  \n",
       "mean     0.811765  \n",
       "std      0.584558  \n",
       "min     -1.000000  \n",
       "25%      1.000000  \n",
       "50%      1.000000  \n",
       "75%      1.000000  \n",
       "max      1.000000  "
      ]
     },
     "execution_count": 25,
     "metadata": {},
     "output_type": "execute_result"
    }
   ],
   "source": [
    "X_train_copy.describe()"
   ]
  },
  {
   "cell_type": "code",
   "execution_count": 30,
   "metadata": {
    "collapsed": false
   },
   "outputs": [],
   "source": [
    "health_df = pd.concat([X_train_copy, X_test_copy])\n",
    "health_df.drop('anomaly', axis = 1, inplace = True)"
   ]
  },
  {
   "cell_type": "code",
   "execution_count": 31,
   "metadata": {
    "collapsed": false
   },
   "outputs": [
    {
     "data": {
      "text/html": [
       "<div>\n",
       "<table border=\"1\" class=\"dataframe\">\n",
       "  <thead>\n",
       "    <tr style=\"text-align: right;\">\n",
       "      <th></th>\n",
       "      <th>0</th>\n",
       "      <th>1</th>\n",
       "      <th>2</th>\n",
       "      <th>3</th>\n",
       "      <th>4</th>\n",
       "      <th>health</th>\n",
       "    </tr>\n",
       "  </thead>\n",
       "  <tbody>\n",
       "    <tr>\n",
       "      <th>0</th>\n",
       "      <td>2.151916</td>\n",
       "      <td>-0.678912</td>\n",
       "      <td>1.062950</td>\n",
       "      <td>1.331556</td>\n",
       "      <td>0.975780</td>\n",
       "      <td>1.0</td>\n",
       "    </tr>\n",
       "    <tr>\n",
       "      <th>1</th>\n",
       "      <td>-4.061705</td>\n",
       "      <td>5.612440</td>\n",
       "      <td>2.035588</td>\n",
       "      <td>0.393836</td>\n",
       "      <td>-1.886367</td>\n",
       "      <td>1.0</td>\n",
       "    </tr>\n",
       "    <tr>\n",
       "      <th>2</th>\n",
       "      <td>-3.415980</td>\n",
       "      <td>0.799900</td>\n",
       "      <td>-0.950916</td>\n",
       "      <td>0.903888</td>\n",
       "      <td>-0.414995</td>\n",
       "      <td>4.0</td>\n",
       "    </tr>\n",
       "    <tr>\n",
       "      <th>3</th>\n",
       "      <td>-1.691408</td>\n",
       "      <td>7.297119</td>\n",
       "      <td>4.153357</td>\n",
       "      <td>-0.444040</td>\n",
       "      <td>-0.244204</td>\n",
       "      <td>2.0</td>\n",
       "    </tr>\n",
       "    <tr>\n",
       "      <th>4</th>\n",
       "      <td>-3.530006</td>\n",
       "      <td>0.267161</td>\n",
       "      <td>-0.532192</td>\n",
       "      <td>1.292108</td>\n",
       "      <td>-0.507775</td>\n",
       "      <td>3.0</td>\n",
       "    </tr>\n",
       "  </tbody>\n",
       "</table>\n",
       "</div>"
      ],
      "text/plain": [
       "          0         1         2         3         4  health\n",
       "0  2.151916 -0.678912  1.062950  1.331556  0.975780     1.0\n",
       "1 -4.061705  5.612440  2.035588  0.393836 -1.886367     1.0\n",
       "2 -3.415980  0.799900 -0.950916  0.903888 -0.414995     4.0\n",
       "3 -1.691408  7.297119  4.153357 -0.444040 -0.244204     2.0\n",
       "4 -3.530006  0.267161 -0.532192  1.292108 -0.507775     3.0"
      ]
     },
     "execution_count": 31,
     "metadata": {},
     "output_type": "execute_result"
    }
   ],
   "source": [
    "health_df.head()"
   ]
  },
  {
   "cell_type": "code",
   "execution_count": 33,
   "metadata": {
    "collapsed": false
   },
   "outputs": [],
   "source": [
    "health_score= pd.Series(health_df.health)"
   ]
  },
  {
   "cell_type": "code",
   "execution_count": 34,
   "metadata": {
    "collapsed": true
   },
   "outputs": [],
   "source": [
    "features_data['health'] = pd.DataFrame(health_score)"
   ]
  },
  {
   "cell_type": "code",
   "execution_count": 35,
   "metadata": {
    "collapsed": false
   },
   "outputs": [
    {
     "data": {
      "text/html": [
       "<div>\n",
       "<table border=\"1\" class=\"dataframe\">\n",
       "  <thead>\n",
       "    <tr style=\"text-align: right;\">\n",
       "      <th></th>\n",
       "      <th>Unnamed: 0</th>\n",
       "      <th>timestamp</th>\n",
       "      <th>x_acc_cf</th>\n",
       "      <th>x_acc_p2p</th>\n",
       "      <th>x_acc_peak</th>\n",
       "      <th>x_acc_rms</th>\n",
       "      <th>x_acc_shaft1x</th>\n",
       "      <th>x_acc_shaft2x</th>\n",
       "      <th>x_acc_shaft3x</th>\n",
       "      <th>x_acc_shaft3xto10xsum</th>\n",
       "      <th>...</th>\n",
       "      <th>z_acc_shaft3xto10xsum</th>\n",
       "      <th>z_vel_cf</th>\n",
       "      <th>z_vel_p2p</th>\n",
       "      <th>z_vel_peak</th>\n",
       "      <th>z_vel_rms</th>\n",
       "      <th>z_vel_shaft1x</th>\n",
       "      <th>z_vel_shaft2x</th>\n",
       "      <th>z_vel_shaft3x</th>\n",
       "      <th>z_vel_shaft3xto10xsum</th>\n",
       "      <th>health</th>\n",
       "    </tr>\n",
       "  </thead>\n",
       "  <tbody>\n",
       "    <tr>\n",
       "      <th>916</th>\n",
       "      <td>916</td>\n",
       "      <td>2016-04-25 11:49:28</td>\n",
       "      <td>3.903191</td>\n",
       "      <td>1.225533</td>\n",
       "      <td>0.636245</td>\n",
       "      <td>0.163006</td>\n",
       "      <td>0.071948</td>\n",
       "      <td>0.054743</td>\n",
       "      <td>0.017191</td>\n",
       "      <td>0.085824</td>\n",
       "      <td>...</td>\n",
       "      <td>0.102806</td>\n",
       "      <td>2.451221</td>\n",
       "      <td>12.767854</td>\n",
       "      <td>6.703367</td>\n",
       "      <td>2.734706</td>\n",
       "      <td>3.176619</td>\n",
       "      <td>0.200449</td>\n",
       "      <td>0.196440</td>\n",
       "      <td>0.647047</td>\n",
       "      <td>1.0</td>\n",
       "    </tr>\n",
       "    <tr>\n",
       "      <th>917</th>\n",
       "      <td>917</td>\n",
       "      <td>2016-04-25 14:49:34</td>\n",
       "      <td>3.930911</td>\n",
       "      <td>0.761220</td>\n",
       "      <td>0.388983</td>\n",
       "      <td>0.098955</td>\n",
       "      <td>0.057149</td>\n",
       "      <td>0.027294</td>\n",
       "      <td>0.004860</td>\n",
       "      <td>0.049142</td>\n",
       "      <td>...</td>\n",
       "      <td>0.033943</td>\n",
       "      <td>2.140221</td>\n",
       "      <td>9.747912</td>\n",
       "      <td>4.999015</td>\n",
       "      <td>2.335747</td>\n",
       "      <td>3.162190</td>\n",
       "      <td>0.047695</td>\n",
       "      <td>0.102206</td>\n",
       "      <td>0.196012</td>\n",
       "      <td>1.0</td>\n",
       "    </tr>\n",
       "    <tr>\n",
       "      <th>918</th>\n",
       "      <td>918</td>\n",
       "      <td>2016-04-25 17:49:39</td>\n",
       "      <td>4.161250</td>\n",
       "      <td>0.848132</td>\n",
       "      <td>0.442576</td>\n",
       "      <td>0.106356</td>\n",
       "      <td>0.052243</td>\n",
       "      <td>0.022981</td>\n",
       "      <td>0.003703</td>\n",
       "      <td>0.039185</td>\n",
       "      <td>...</td>\n",
       "      <td>0.027538</td>\n",
       "      <td>2.313496</td>\n",
       "      <td>9.629319</td>\n",
       "      <td>5.042790</td>\n",
       "      <td>2.179727</td>\n",
       "      <td>2.588635</td>\n",
       "      <td>0.083741</td>\n",
       "      <td>0.077680</td>\n",
       "      <td>0.159285</td>\n",
       "      <td>1.0</td>\n",
       "    </tr>\n",
       "    <tr>\n",
       "      <th>919</th>\n",
       "      <td>919</td>\n",
       "      <td>2016-04-25 20:49:43</td>\n",
       "      <td>4.138266</td>\n",
       "      <td>1.005279</td>\n",
       "      <td>0.513804</td>\n",
       "      <td>0.124159</td>\n",
       "      <td>0.051388</td>\n",
       "      <td>0.035749</td>\n",
       "      <td>0.006357</td>\n",
       "      <td>0.044378</td>\n",
       "      <td>...</td>\n",
       "      <td>0.034718</td>\n",
       "      <td>2.677693</td>\n",
       "      <td>11.760224</td>\n",
       "      <td>6.496227</td>\n",
       "      <td>2.426054</td>\n",
       "      <td>2.883996</td>\n",
       "      <td>0.088031</td>\n",
       "      <td>0.080232</td>\n",
       "      <td>0.193030</td>\n",
       "      <td>9.0</td>\n",
       "    </tr>\n",
       "    <tr>\n",
       "      <th>920</th>\n",
       "      <td>920</td>\n",
       "      <td>2016-04-25 23:49:48</td>\n",
       "      <td>4.468325</td>\n",
       "      <td>1.042656</td>\n",
       "      <td>0.568799</td>\n",
       "      <td>0.127296</td>\n",
       "      <td>0.055974</td>\n",
       "      <td>0.035657</td>\n",
       "      <td>0.004367</td>\n",
       "      <td>0.039532</td>\n",
       "      <td>...</td>\n",
       "      <td>0.025544</td>\n",
       "      <td>2.137463</td>\n",
       "      <td>9.232612</td>\n",
       "      <td>4.650337</td>\n",
       "      <td>2.175634</td>\n",
       "      <td>2.634484</td>\n",
       "      <td>0.098633</td>\n",
       "      <td>0.069684</td>\n",
       "      <td>0.151457</td>\n",
       "      <td>4.0</td>\n",
       "    </tr>\n",
       "  </tbody>\n",
       "</table>\n",
       "<p>5 rows × 51 columns</p>\n",
       "</div>"
      ],
      "text/plain": [
       "     Unnamed: 0            timestamp  x_acc_cf  x_acc_p2p  x_acc_peak  \\\n",
       "916         916  2016-04-25 11:49:28  3.903191   1.225533    0.636245   \n",
       "917         917  2016-04-25 14:49:34  3.930911   0.761220    0.388983   \n",
       "918         918  2016-04-25 17:49:39  4.161250   0.848132    0.442576   \n",
       "919         919  2016-04-25 20:49:43  4.138266   1.005279    0.513804   \n",
       "920         920  2016-04-25 23:49:48  4.468325   1.042656    0.568799   \n",
       "\n",
       "     x_acc_rms  x_acc_shaft1x  x_acc_shaft2x  x_acc_shaft3x  \\\n",
       "916   0.163006       0.071948       0.054743       0.017191   \n",
       "917   0.098955       0.057149       0.027294       0.004860   \n",
       "918   0.106356       0.052243       0.022981       0.003703   \n",
       "919   0.124159       0.051388       0.035749       0.006357   \n",
       "920   0.127296       0.055974       0.035657       0.004367   \n",
       "\n",
       "     x_acc_shaft3xto10xsum   ...    z_acc_shaft3xto10xsum  z_vel_cf  \\\n",
       "916               0.085824   ...                 0.102806  2.451221   \n",
       "917               0.049142   ...                 0.033943  2.140221   \n",
       "918               0.039185   ...                 0.027538  2.313496   \n",
       "919               0.044378   ...                 0.034718  2.677693   \n",
       "920               0.039532   ...                 0.025544  2.137463   \n",
       "\n",
       "     z_vel_p2p  z_vel_peak  z_vel_rms  z_vel_shaft1x  z_vel_shaft2x  \\\n",
       "916  12.767854    6.703367   2.734706       3.176619       0.200449   \n",
       "917   9.747912    4.999015   2.335747       3.162190       0.047695   \n",
       "918   9.629319    5.042790   2.179727       2.588635       0.083741   \n",
       "919  11.760224    6.496227   2.426054       2.883996       0.088031   \n",
       "920   9.232612    4.650337   2.175634       2.634484       0.098633   \n",
       "\n",
       "     z_vel_shaft3x  z_vel_shaft3xto10xsum  health  \n",
       "916       0.196440               0.647047     1.0  \n",
       "917       0.102206               0.196012     1.0  \n",
       "918       0.077680               0.159285     1.0  \n",
       "919       0.080232               0.193030     9.0  \n",
       "920       0.069684               0.151457     4.0  \n",
       "\n",
       "[5 rows x 51 columns]"
      ]
     },
     "execution_count": 35,
     "metadata": {},
     "output_type": "execute_result"
    }
   ],
   "source": [
    "features_data.head()"
   ]
  },
  {
   "cell_type": "code",
   "execution_count": null,
   "metadata": {
    "collapsed": true
   },
   "outputs": [],
   "source": []
  }
 ],
 "metadata": {
  "kernelspec": {
   "display_name": "Python 2",
   "language": "python",
   "name": "python2"
  },
  "language_info": {
   "codemirror_mode": {
    "name": "ipython",
    "version": 2
   },
   "file_extension": ".py",
   "mimetype": "text/x-python",
   "name": "python",
   "nbconvert_exporter": "python",
   "pygments_lexer": "ipython2",
   "version": "2.7.13"
  }
 },
 "nbformat": 4,
 "nbformat_minor": 2
}
