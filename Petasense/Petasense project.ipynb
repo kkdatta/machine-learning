{
 "cells": [
  {
   "cell_type": "code",
   "execution_count": 1,
   "metadata": {
    "collapsed": true
   },
   "outputs": [],
   "source": [
    "import csv\n",
    "import os\n",
    "import pandas as pd\n",
    "import numpy as np\n",
    "import matplotlib.pyplot as plt\n",
    "from sklearn.model_selection  import train_test_split\n",
    "from sklearn import linear_model\n",
    "from sklearn.linear_model import LogisticRegression\n",
    "from sklearn.ensemble import RandomForestClassifier\n",
    "from sklearn.metrics import accuracy_score\n",
    "from sklearn import svm\n",
    "from sklearn import preprocessing\n",
    "from sklearn.metrics import confusion_matrix"
   ]
  },
  {
   "cell_type": "code",
   "execution_count": 2,
   "metadata": {
    "collapsed": false
   },
   "outputs": [
    {
     "name": "stdout",
     "output_type": "stream",
     "text": [
      "C:\\Application\\Petasense\n"
     ]
    }
   ],
   "source": [
    "os.chdir(\"C:\\Application\\Petasense\")\n",
    "print os.getcwd()"
   ]
  },
  {
   "cell_type": "code",
   "execution_count": 3,
   "metadata": {
    "collapsed": false
   },
   "outputs": [],
   "source": [
    "import pandas as pd\n",
    "x_acc = pd.read_json('measurement_data_37_L2_x_acceleration.json')"
   ]
  },
  {
   "cell_type": "code",
   "execution_count": 4,
   "metadata": {
    "collapsed": true
   },
   "outputs": [],
   "source": [
    "x_vel = pd.read_json('measurement_data_37_L2_x_velocity.json')\n",
    "y_acc = pd.read_json('measurement_data_37_L2_y_acceleration.json')\n",
    "y_vel = pd.read_json('measurement_data_37_L2_y_velocity.json')\n"
   ]
  },
  {
   "cell_type": "code",
   "execution_count": 5,
   "metadata": {
    "collapsed": true
   },
   "outputs": [],
   "source": [
    "z_acc = pd.read_json('measurement_data_37_L2_z_acceleration.json')\n",
    "z_vel = pd.read_json('measurement_data_37_L2_z_velocity.json')"
   ]
  },
  {
   "cell_type": "code",
   "execution_count": 6,
   "metadata": {
    "collapsed": false
   },
   "outputs": [
    {
     "data": {
      "text/html": [
       "<div>\n",
       "<table border=\"1\" class=\"dataframe\">\n",
       "  <thead>\n",
       "    <tr style=\"text-align: right;\">\n",
       "      <th></th>\n",
       "      <th>location_id</th>\n",
       "      <th>location_name</th>\n",
       "      <th>machine_name</th>\n",
       "      <th>measurements</th>\n",
       "    </tr>\n",
       "  </thead>\n",
       "  <tbody>\n",
       "    <tr>\n",
       "      <th>0</th>\n",
       "      <td>128</td>\n",
       "      <td>L2</td>\n",
       "      <td>Water Injection Pump - 1A</td>\n",
       "      <td>{u'sampling_size': 8192, u'timestamp': u'2016-...</td>\n",
       "    </tr>\n",
       "    <tr>\n",
       "      <th>1</th>\n",
       "      <td>128</td>\n",
       "      <td>L2</td>\n",
       "      <td>Water Injection Pump - 1A</td>\n",
       "      <td>{u'sampling_size': 8192, u'timestamp': u'2016-...</td>\n",
       "    </tr>\n",
       "    <tr>\n",
       "      <th>2</th>\n",
       "      <td>128</td>\n",
       "      <td>L2</td>\n",
       "      <td>Water Injection Pump - 1A</td>\n",
       "      <td>{u'sampling_size': 8192, u'timestamp': u'2016-...</td>\n",
       "    </tr>\n",
       "    <tr>\n",
       "      <th>3</th>\n",
       "      <td>128</td>\n",
       "      <td>L2</td>\n",
       "      <td>Water Injection Pump - 1A</td>\n",
       "      <td>{u'sampling_size': 8192, u'timestamp': u'2016-...</td>\n",
       "    </tr>\n",
       "    <tr>\n",
       "      <th>4</th>\n",
       "      <td>128</td>\n",
       "      <td>L2</td>\n",
       "      <td>Water Injection Pump - 1A</td>\n",
       "      <td>{u'sampling_size': 8192, u'timestamp': u'2016-...</td>\n",
       "    </tr>\n",
       "  </tbody>\n",
       "</table>\n",
       "</div>"
      ],
      "text/plain": [
       "   location_id location_name               machine_name  \\\n",
       "0          128            L2  Water Injection Pump - 1A   \n",
       "1          128            L2  Water Injection Pump - 1A   \n",
       "2          128            L2  Water Injection Pump - 1A   \n",
       "3          128            L2  Water Injection Pump - 1A   \n",
       "4          128            L2  Water Injection Pump - 1A   \n",
       "\n",
       "                                        measurements  \n",
       "0  {u'sampling_size': 8192, u'timestamp': u'2016-...  \n",
       "1  {u'sampling_size': 8192, u'timestamp': u'2016-...  \n",
       "2  {u'sampling_size': 8192, u'timestamp': u'2016-...  \n",
       "3  {u'sampling_size': 8192, u'timestamp': u'2016-...  \n",
       "4  {u'sampling_size': 8192, u'timestamp': u'2016-...  "
      ]
     },
     "execution_count": 6,
     "metadata": {},
     "output_type": "execute_result"
    }
   ],
   "source": [
    "x_acc.head()"
   ]
  },
  {
   "cell_type": "code",
   "execution_count": 7,
   "metadata": {
    "collapsed": false
   },
   "outputs": [],
   "source": [
    "x_acc['timestamp'] = x_acc['measurements'].map(lambda v:v['timestamp'])"
   ]
  },
  {
   "cell_type": "code",
   "execution_count": 8,
   "metadata": {
    "collapsed": false
   },
   "outputs": [
    {
     "data": {
      "text/html": [
       "<div>\n",
       "<table border=\"1\" class=\"dataframe\">\n",
       "  <thead>\n",
       "    <tr style=\"text-align: right;\">\n",
       "      <th></th>\n",
       "      <th>location_id</th>\n",
       "      <th>location_name</th>\n",
       "      <th>machine_name</th>\n",
       "      <th>measurements</th>\n",
       "      <th>timestamp</th>\n",
       "    </tr>\n",
       "  </thead>\n",
       "  <tbody>\n",
       "    <tr>\n",
       "      <th>0</th>\n",
       "      <td>128</td>\n",
       "      <td>L2</td>\n",
       "      <td>Water Injection Pump - 1A</td>\n",
       "      <td>{u'sampling_size': 8192, u'timestamp': u'2016-...</td>\n",
       "      <td>2016-10-19 06:30:55</td>\n",
       "    </tr>\n",
       "    <tr>\n",
       "      <th>1</th>\n",
       "      <td>128</td>\n",
       "      <td>L2</td>\n",
       "      <td>Water Injection Pump - 1A</td>\n",
       "      <td>{u'sampling_size': 8192, u'timestamp': u'2016-...</td>\n",
       "      <td>2016-10-23 09:38:41</td>\n",
       "    </tr>\n",
       "    <tr>\n",
       "      <th>2</th>\n",
       "      <td>128</td>\n",
       "      <td>L2</td>\n",
       "      <td>Water Injection Pump - 1A</td>\n",
       "      <td>{u'sampling_size': 8192, u'timestamp': u'2016-...</td>\n",
       "      <td>2016-09-23 05:41:25</td>\n",
       "    </tr>\n",
       "    <tr>\n",
       "      <th>3</th>\n",
       "      <td>128</td>\n",
       "      <td>L2</td>\n",
       "      <td>Water Injection Pump - 1A</td>\n",
       "      <td>{u'sampling_size': 8192, u'timestamp': u'2016-...</td>\n",
       "      <td>2016-10-11 18:13:36</td>\n",
       "    </tr>\n",
       "    <tr>\n",
       "      <th>4</th>\n",
       "      <td>128</td>\n",
       "      <td>L2</td>\n",
       "      <td>Water Injection Pump - 1A</td>\n",
       "      <td>{u'sampling_size': 8192, u'timestamp': u'2016-...</td>\n",
       "      <td>2016-10-11 21:13:40</td>\n",
       "    </tr>\n",
       "  </tbody>\n",
       "</table>\n",
       "</div>"
      ],
      "text/plain": [
       "   location_id location_name               machine_name  \\\n",
       "0          128            L2  Water Injection Pump - 1A   \n",
       "1          128            L2  Water Injection Pump - 1A   \n",
       "2          128            L2  Water Injection Pump - 1A   \n",
       "3          128            L2  Water Injection Pump - 1A   \n",
       "4          128            L2  Water Injection Pump - 1A   \n",
       "\n",
       "                                        measurements            timestamp  \n",
       "0  {u'sampling_size': 8192, u'timestamp': u'2016-...  2016-10-19 06:30:55  \n",
       "1  {u'sampling_size': 8192, u'timestamp': u'2016-...  2016-10-23 09:38:41  \n",
       "2  {u'sampling_size': 8192, u'timestamp': u'2016-...  2016-09-23 05:41:25  \n",
       "3  {u'sampling_size': 8192, u'timestamp': u'2016-...  2016-10-11 18:13:36  \n",
       "4  {u'sampling_size': 8192, u'timestamp': u'2016-...  2016-10-11 21:13:40  "
      ]
     },
     "execution_count": 8,
     "metadata": {},
     "output_type": "execute_result"
    }
   ],
   "source": [
    "x_acc.head()"
   ]
  },
  {
   "cell_type": "code",
   "execution_count": 9,
   "metadata": {
    "collapsed": false
   },
   "outputs": [],
   "source": [
    "x_acc['crest_factor'] = x_acc['measurements'].map(lambda v:v['data']['time_domain_features']['crest_factor'])"
   ]
  },
  {
   "cell_type": "code",
   "execution_count": 10,
   "metadata": {
    "collapsed": true
   },
   "outputs": [],
   "source": [
    "x_acc['p2p'] = x_acc['measurements'].map(lambda v:v['data']['time_domain_features']['p2p'])\n",
    "x_acc['peak'] = x_acc['measurements'].map(lambda v:v['data']['time_domain_features']['peak'])\n",
    "x_acc['rms'] = x_acc['measurements'].map(lambda v:v['data']['time_domain_features']['rms'])"
   ]
  },
  {
   "cell_type": "code",
   "execution_count": 11,
   "metadata": {
    "collapsed": true
   },
   "outputs": [],
   "source": [
    "x_acc['shaft_1x'] = x_acc['measurements'].map(lambda v:v['data']['frequency_domain_features']['shaft_1x'])\n",
    "x_acc['shaft_2x'] = x_acc['measurements'].map(lambda v:v['data']['frequency_domain_features']['shaft_2x'])\n",
    "x_acc['shaft_3x'] = x_acc['measurements'].map(lambda v:v['data']['frequency_domain_features']['shaft_3x'])\n",
    "x_acc['shaft_3x_to_10x_sum'] = x_acc['measurements'].map(lambda v:v['data']['frequency_domain_features']['shaft_3x_to_10x_sum'])"
   ]
  },
  {
   "cell_type": "code",
   "execution_count": 12,
   "metadata": {
    "collapsed": false
   },
   "outputs": [],
   "source": [
    "x_acc.drop(['location_id', 'location_name', 'machine_name', 'measurements'], inplace = True, axis = 1)"
   ]
  },
  {
   "cell_type": "code",
   "execution_count": 13,
   "metadata": {
    "collapsed": false
   },
   "outputs": [
    {
     "data": {
      "text/html": [
       "<div>\n",
       "<table border=\"1\" class=\"dataframe\">\n",
       "  <thead>\n",
       "    <tr style=\"text-align: right;\">\n",
       "      <th></th>\n",
       "      <th>timestamp</th>\n",
       "      <th>crest_factor</th>\n",
       "      <th>p2p</th>\n",
       "      <th>peak</th>\n",
       "      <th>rms</th>\n",
       "      <th>shaft_1x</th>\n",
       "      <th>shaft_2x</th>\n",
       "      <th>shaft_3x</th>\n",
       "      <th>shaft_3x_to_10x_sum</th>\n",
       "    </tr>\n",
       "  </thead>\n",
       "  <tbody>\n",
       "    <tr>\n",
       "      <th>0</th>\n",
       "      <td>2016-10-19 06:30:55</td>\n",
       "      <td>3.735475</td>\n",
       "      <td>1.278770</td>\n",
       "      <td>0.641561</td>\n",
       "      <td>0.171748</td>\n",
       "      <td>0.062769</td>\n",
       "      <td>0.060467</td>\n",
       "      <td>0.013013</td>\n",
       "      <td>0.072167</td>\n",
       "    </tr>\n",
       "    <tr>\n",
       "      <th>1</th>\n",
       "      <td>2016-10-23 09:38:41</td>\n",
       "      <td>3.887226</td>\n",
       "      <td>1.091752</td>\n",
       "      <td>0.587924</td>\n",
       "      <td>0.151245</td>\n",
       "      <td>0.059507</td>\n",
       "      <td>0.053684</td>\n",
       "      <td>0.008626</td>\n",
       "      <td>0.075303</td>\n",
       "    </tr>\n",
       "    <tr>\n",
       "      <th>2</th>\n",
       "      <td>2016-09-23 05:41:25</td>\n",
       "      <td>3.249813</td>\n",
       "      <td>1.001194</td>\n",
       "      <td>0.512187</td>\n",
       "      <td>0.157605</td>\n",
       "      <td>0.039519</td>\n",
       "      <td>0.053709</td>\n",
       "      <td>0.006500</td>\n",
       "      <td>0.038553</td>\n",
       "    </tr>\n",
       "    <tr>\n",
       "      <th>3</th>\n",
       "      <td>2016-10-11 18:13:36</td>\n",
       "      <td>4.351854</td>\n",
       "      <td>1.501042</td>\n",
       "      <td>0.776067</td>\n",
       "      <td>0.178330</td>\n",
       "      <td>0.058147</td>\n",
       "      <td>0.044012</td>\n",
       "      <td>0.007117</td>\n",
       "      <td>0.048917</td>\n",
       "    </tr>\n",
       "    <tr>\n",
       "      <th>4</th>\n",
       "      <td>2016-10-11 21:13:40</td>\n",
       "      <td>4.341312</td>\n",
       "      <td>1.450610</td>\n",
       "      <td>0.789510</td>\n",
       "      <td>0.181860</td>\n",
       "      <td>0.049995</td>\n",
       "      <td>0.053719</td>\n",
       "      <td>0.005913</td>\n",
       "      <td>0.046581</td>\n",
       "    </tr>\n",
       "  </tbody>\n",
       "</table>\n",
       "</div>"
      ],
      "text/plain": [
       "             timestamp  crest_factor       p2p      peak       rms  shaft_1x  \\\n",
       "0  2016-10-19 06:30:55      3.735475  1.278770  0.641561  0.171748  0.062769   \n",
       "1  2016-10-23 09:38:41      3.887226  1.091752  0.587924  0.151245  0.059507   \n",
       "2  2016-09-23 05:41:25      3.249813  1.001194  0.512187  0.157605  0.039519   \n",
       "3  2016-10-11 18:13:36      4.351854  1.501042  0.776067  0.178330  0.058147   \n",
       "4  2016-10-11 21:13:40      4.341312  1.450610  0.789510  0.181860  0.049995   \n",
       "\n",
       "   shaft_2x  shaft_3x  shaft_3x_to_10x_sum  \n",
       "0  0.060467  0.013013             0.072167  \n",
       "1  0.053684  0.008626             0.075303  \n",
       "2  0.053709  0.006500             0.038553  \n",
       "3  0.044012  0.007117             0.048917  \n",
       "4  0.053719  0.005913             0.046581  "
      ]
     },
     "execution_count": 13,
     "metadata": {},
     "output_type": "execute_result"
    }
   ],
   "source": [
    "x_acc.head()"
   ]
  },
  {
   "cell_type": "code",
   "execution_count": 14,
   "metadata": {
    "collapsed": true
   },
   "outputs": [],
   "source": [
    "x_vel['timestamp'] = x_vel['measurements'].map(lambda v:v['timestamp'])\n",
    "x_vel['crest_factor'] = x_vel['measurements'].map(lambda v:v['data']['time_domain_features']['crest_factor'])\n",
    "x_vel['p2p'] = x_vel['measurements'].map(lambda v:v['data']['time_domain_features']['p2p'])\n",
    "x_vel['peak'] = x_vel['measurements'].map(lambda v:v['data']['time_domain_features']['peak'])\n",
    "x_vel['rms'] = x_vel['measurements'].map(lambda v:v['data']['time_domain_features']['rms'])\n",
    "x_vel['shaft_1x'] = x_vel['measurements'].map(lambda v:v['data']['frequency_domain_features']['shaft_1x'])\n",
    "x_vel['shaft_2x'] = x_vel['measurements'].map(lambda v:v['data']['frequency_domain_features']['shaft_2x'])\n",
    "x_vel['shaft_3x'] = x_vel['measurements'].map(lambda v:v['data']['frequency_domain_features']['shaft_3x'])\n",
    "x_vel['shaft_3x_to_10x_sum'] = x_vel['measurements'].map(lambda v:v['data']['frequency_domain_features']['shaft_3x_to_10x_sum'])"
   ]
  },
  {
   "cell_type": "code",
   "execution_count": 15,
   "metadata": {
    "collapsed": false
   },
   "outputs": [],
   "source": [
    "x_vel.drop(['location_id', 'location_name', 'machine_name', 'measurements'], inplace = True, axis = 1)"
   ]
  },
  {
   "cell_type": "code",
   "execution_count": 16,
   "metadata": {
    "collapsed": false
   },
   "outputs": [
    {
     "data": {
      "text/html": [
       "<div>\n",
       "<table border=\"1\" class=\"dataframe\">\n",
       "  <thead>\n",
       "    <tr style=\"text-align: right;\">\n",
       "      <th></th>\n",
       "      <th>timestamp</th>\n",
       "      <th>crest_factor</th>\n",
       "      <th>p2p</th>\n",
       "      <th>peak</th>\n",
       "      <th>rms</th>\n",
       "      <th>shaft_1x</th>\n",
       "      <th>shaft_2x</th>\n",
       "      <th>shaft_3x</th>\n",
       "      <th>shaft_3x_to_10x_sum</th>\n",
       "    </tr>\n",
       "  </thead>\n",
       "  <tbody>\n",
       "    <tr>\n",
       "      <th>0</th>\n",
       "      <td>2016-10-19 06:30:55</td>\n",
       "      <td>2.600441</td>\n",
       "      <td>7.597760</td>\n",
       "      <td>3.805977</td>\n",
       "      <td>1.463589</td>\n",
       "      <td>1.646833</td>\n",
       "      <td>0.793223</td>\n",
       "      <td>0.113306</td>\n",
       "      <td>0.398818</td>\n",
       "    </tr>\n",
       "    <tr>\n",
       "      <th>1</th>\n",
       "      <td>2016-10-23 09:38:41</td>\n",
       "      <td>2.776744</td>\n",
       "      <td>8.226797</td>\n",
       "      <td>4.151070</td>\n",
       "      <td>1.494942</td>\n",
       "      <td>1.560048</td>\n",
       "      <td>0.703692</td>\n",
       "      <td>0.075382</td>\n",
       "      <td>0.406958</td>\n",
       "    </tr>\n",
       "    <tr>\n",
       "      <th>2</th>\n",
       "      <td>2016-09-23 05:41:25</td>\n",
       "      <td>3.169659</td>\n",
       "      <td>7.745255</td>\n",
       "      <td>4.262778</td>\n",
       "      <td>1.344870</td>\n",
       "      <td>1.034460</td>\n",
       "      <td>0.702945</td>\n",
       "      <td>0.056465</td>\n",
       "      <td>0.206511</td>\n",
       "    </tr>\n",
       "    <tr>\n",
       "      <th>3</th>\n",
       "      <td>2016-10-11 18:13:36</td>\n",
       "      <td>3.201963</td>\n",
       "      <td>9.235602</td>\n",
       "      <td>4.839630</td>\n",
       "      <td>1.511457</td>\n",
       "      <td>1.523469</td>\n",
       "      <td>0.576557</td>\n",
       "      <td>0.061883</td>\n",
       "      <td>0.267295</td>\n",
       "    </tr>\n",
       "    <tr>\n",
       "      <th>4</th>\n",
       "      <td>2016-10-11 21:13:40</td>\n",
       "      <td>3.038658</td>\n",
       "      <td>8.385373</td>\n",
       "      <td>4.446082</td>\n",
       "      <td>1.463173</td>\n",
       "      <td>1.311487</td>\n",
       "      <td>0.704587</td>\n",
       "      <td>0.051704</td>\n",
       "      <td>0.234590</td>\n",
       "    </tr>\n",
       "  </tbody>\n",
       "</table>\n",
       "</div>"
      ],
      "text/plain": [
       "             timestamp  crest_factor       p2p      peak       rms  shaft_1x  \\\n",
       "0  2016-10-19 06:30:55      2.600441  7.597760  3.805977  1.463589  1.646833   \n",
       "1  2016-10-23 09:38:41      2.776744  8.226797  4.151070  1.494942  1.560048   \n",
       "2  2016-09-23 05:41:25      3.169659  7.745255  4.262778  1.344870  1.034460   \n",
       "3  2016-10-11 18:13:36      3.201963  9.235602  4.839630  1.511457  1.523469   \n",
       "4  2016-10-11 21:13:40      3.038658  8.385373  4.446082  1.463173  1.311487   \n",
       "\n",
       "   shaft_2x  shaft_3x  shaft_3x_to_10x_sum  \n",
       "0  0.793223  0.113306             0.398818  \n",
       "1  0.703692  0.075382             0.406958  \n",
       "2  0.702945  0.056465             0.206511  \n",
       "3  0.576557  0.061883             0.267295  \n",
       "4  0.704587  0.051704             0.234590  "
      ]
     },
     "execution_count": 16,
     "metadata": {},
     "output_type": "execute_result"
    }
   ],
   "source": [
    "x_vel.head()"
   ]
  },
  {
   "cell_type": "code",
   "execution_count": 17,
   "metadata": {
    "collapsed": true
   },
   "outputs": [],
   "source": [
    "y_vel['timestamp'] = y_vel['measurements'].map(lambda v:v['timestamp'])\n",
    "y_vel['crest_factor'] = y_vel['measurements'].map(lambda v:v['data']['time_domain_features']['crest_factor'])\n",
    "y_vel['p2p'] = y_vel['measurements'].map(lambda v:v['data']['time_domain_features']['p2p'])\n",
    "y_vel['peak'] = y_vel['measurements'].map(lambda v:v['data']['time_domain_features']['peak'])\n",
    "y_vel['rms'] = y_vel['measurements'].map(lambda v:v['data']['time_domain_features']['rms'])\n",
    "y_vel['shaft_1x'] = y_vel['measurements'].map(lambda v:v['data']['frequency_domain_features']['shaft_1x'])\n",
    "y_vel['shaft_2x'] = y_vel['measurements'].map(lambda v:v['data']['frequency_domain_features']['shaft_2x'])\n",
    "y_vel['shaft_3x'] = y_vel['measurements'].map(lambda v:v['data']['frequency_domain_features']['shaft_3x'])\n",
    "y_vel['shaft_3x_to_10x_sum'] = y_vel['measurements'].map(lambda v:v['data']['frequency_domain_features']['shaft_3x_to_10x_sum'])"
   ]
  },
  {
   "cell_type": "code",
   "execution_count": 18,
   "metadata": {
    "collapsed": true
   },
   "outputs": [],
   "source": [
    "y_vel.drop(['location_id', 'location_name', 'machine_name', 'measurements'], inplace = True, axis = 1)"
   ]
  },
  {
   "cell_type": "code",
   "execution_count": 19,
   "metadata": {
    "collapsed": false
   },
   "outputs": [
    {
     "data": {
      "text/html": [
       "<div>\n",
       "<table border=\"1\" class=\"dataframe\">\n",
       "  <thead>\n",
       "    <tr style=\"text-align: right;\">\n",
       "      <th></th>\n",
       "      <th>timestamp</th>\n",
       "      <th>crest_factor</th>\n",
       "      <th>p2p</th>\n",
       "      <th>peak</th>\n",
       "      <th>rms</th>\n",
       "      <th>shaft_1x</th>\n",
       "      <th>shaft_2x</th>\n",
       "      <th>shaft_3x</th>\n",
       "      <th>shaft_3x_to_10x_sum</th>\n",
       "    </tr>\n",
       "  </thead>\n",
       "  <tbody>\n",
       "    <tr>\n",
       "      <th>0</th>\n",
       "      <td>2016-10-19 06:30:55</td>\n",
       "      <td>2.304301</td>\n",
       "      <td>7.755830</td>\n",
       "      <td>4.092797</td>\n",
       "      <td>1.776156</td>\n",
       "      <td>2.456248</td>\n",
       "      <td>0.134392</td>\n",
       "      <td>0.026950</td>\n",
       "      <td>0.265114</td>\n",
       "    </tr>\n",
       "    <tr>\n",
       "      <th>1</th>\n",
       "      <td>2016-10-23 09:38:41</td>\n",
       "      <td>2.142689</td>\n",
       "      <td>6.788566</td>\n",
       "      <td>3.613023</td>\n",
       "      <td>1.686209</td>\n",
       "      <td>2.324020</td>\n",
       "      <td>0.122588</td>\n",
       "      <td>0.036360</td>\n",
       "      <td>0.220707</td>\n",
       "    </tr>\n",
       "    <tr>\n",
       "      <th>2</th>\n",
       "      <td>2016-09-23 05:41:25</td>\n",
       "      <td>2.142557</td>\n",
       "      <td>7.789986</td>\n",
       "      <td>3.923721</td>\n",
       "      <td>1.831326</td>\n",
       "      <td>2.411274</td>\n",
       "      <td>0.115134</td>\n",
       "      <td>0.018925</td>\n",
       "      <td>0.187057</td>\n",
       "    </tr>\n",
       "    <tr>\n",
       "      <th>3</th>\n",
       "      <td>2016-10-11 18:13:36</td>\n",
       "      <td>2.306705</td>\n",
       "      <td>7.319476</td>\n",
       "      <td>3.801704</td>\n",
       "      <td>1.648110</td>\n",
       "      <td>2.234039</td>\n",
       "      <td>0.101955</td>\n",
       "      <td>0.028463</td>\n",
       "      <td>0.180453</td>\n",
       "    </tr>\n",
       "    <tr>\n",
       "      <th>4</th>\n",
       "      <td>2016-10-11 21:13:40</td>\n",
       "      <td>2.377103</td>\n",
       "      <td>7.559644</td>\n",
       "      <td>4.005312</td>\n",
       "      <td>1.684955</td>\n",
       "      <td>2.272818</td>\n",
       "      <td>0.118545</td>\n",
       "      <td>0.021610</td>\n",
       "      <td>0.223377</td>\n",
       "    </tr>\n",
       "  </tbody>\n",
       "</table>\n",
       "</div>"
      ],
      "text/plain": [
       "             timestamp  crest_factor       p2p      peak       rms  shaft_1x  \\\n",
       "0  2016-10-19 06:30:55      2.304301  7.755830  4.092797  1.776156  2.456248   \n",
       "1  2016-10-23 09:38:41      2.142689  6.788566  3.613023  1.686209  2.324020   \n",
       "2  2016-09-23 05:41:25      2.142557  7.789986  3.923721  1.831326  2.411274   \n",
       "3  2016-10-11 18:13:36      2.306705  7.319476  3.801704  1.648110  2.234039   \n",
       "4  2016-10-11 21:13:40      2.377103  7.559644  4.005312  1.684955  2.272818   \n",
       "\n",
       "   shaft_2x  shaft_3x  shaft_3x_to_10x_sum  \n",
       "0  0.134392  0.026950             0.265114  \n",
       "1  0.122588  0.036360             0.220707  \n",
       "2  0.115134  0.018925             0.187057  \n",
       "3  0.101955  0.028463             0.180453  \n",
       "4  0.118545  0.021610             0.223377  "
      ]
     },
     "execution_count": 19,
     "metadata": {},
     "output_type": "execute_result"
    }
   ],
   "source": [
    "y_vel.head()"
   ]
  },
  {
   "cell_type": "code",
   "execution_count": 20,
   "metadata": {
    "collapsed": true
   },
   "outputs": [],
   "source": [
    "y_acc['timestamp'] = y_acc['measurements'].map(lambda v:v['timestamp'])\n",
    "y_acc['crest_factor'] = y_acc['measurements'].map(lambda v:v['data']['time_domain_features']['crest_factor'])\n",
    "y_acc['p2p'] = y_acc['measurements'].map(lambda v:v['data']['time_domain_features']['p2p'])\n",
    "y_acc['peak'] = y_acc['measurements'].map(lambda v:v['data']['time_domain_features']['peak'])\n",
    "y_acc['rms'] = y_acc['measurements'].map(lambda v:v['data']['time_domain_features']['rms'])\n",
    "y_acc['shaft_1x'] = y_acc['measurements'].map(lambda v:v['data']['frequency_domain_features']['shaft_1x'])\n",
    "y_acc['shaft_2x'] = y_acc['measurements'].map(lambda v:v['data']['frequency_domain_features']['shaft_2x'])\n",
    "y_acc['shaft_3x'] = y_acc['measurements'].map(lambda v:v['data']['frequency_domain_features']['shaft_3x'])\n",
    "y_acc['shaft_3x_to_10x_sum'] = y_acc['measurements'].map(lambda v:v['data']['frequency_domain_features']['shaft_3x_to_10x_sum'])"
   ]
  },
  {
   "cell_type": "code",
   "execution_count": 21,
   "metadata": {
    "collapsed": true
   },
   "outputs": [],
   "source": [
    "y_acc.drop(['location_id', 'location_name', 'machine_name', 'measurements'], inplace = True, axis = 1)"
   ]
  },
  {
   "cell_type": "code",
   "execution_count": 22,
   "metadata": {
    "collapsed": true
   },
   "outputs": [],
   "source": [
    "z_vel['timestamp'] = z_vel['measurements'].map(lambda v:v['timestamp'])\n",
    "z_vel['crest_factor'] = z_vel['measurements'].map(lambda v:v['data']['time_domain_features']['crest_factor'])\n",
    "z_vel['p2p'] = z_vel['measurements'].map(lambda v:v['data']['time_domain_features']['p2p'])\n",
    "z_vel['peak'] = z_vel['measurements'].map(lambda v:v['data']['time_domain_features']['peak'])\n",
    "z_vel['rms'] = z_vel['measurements'].map(lambda v:v['data']['time_domain_features']['rms'])\n",
    "z_vel['shaft_1x'] = z_vel['measurements'].map(lambda v:v['data']['frequency_domain_features']['shaft_1x'])\n",
    "z_vel['shaft_2x'] = z_vel['measurements'].map(lambda v:v['data']['frequency_domain_features']['shaft_2x'])\n",
    "z_vel['shaft_3x'] = z_vel['measurements'].map(lambda v:v['data']['frequency_domain_features']['shaft_3x'])\n",
    "z_vel['shaft_3x_to_10x_sum'] = z_vel['measurements'].map(lambda v:v['data']['frequency_domain_features']['shaft_3x_to_10x_sum'])"
   ]
  },
  {
   "cell_type": "code",
   "execution_count": 23,
   "metadata": {
    "collapsed": true
   },
   "outputs": [],
   "source": [
    "z_acc['timestamp'] = z_acc['measurements'].map(lambda v:v['timestamp'])\n",
    "z_acc['crest_factor'] = z_acc['measurements'].map(lambda v:v['data']['time_domain_features']['crest_factor'])\n",
    "z_acc['p2p'] = z_acc['measurements'].map(lambda v:v['data']['time_domain_features']['p2p'])\n",
    "z_acc['peak'] = z_acc['measurements'].map(lambda v:v['data']['time_domain_features']['peak'])\n",
    "z_acc['rms'] = z_acc['measurements'].map(lambda v:v['data']['time_domain_features']['rms'])\n",
    "z_acc['shaft_1x'] = z_acc['measurements'].map(lambda v:v['data']['frequency_domain_features']['shaft_1x'])\n",
    "z_acc['shaft_2x'] = z_acc['measurements'].map(lambda v:v['data']['frequency_domain_features']['shaft_2x'])\n",
    "z_acc['shaft_3x'] = z_acc['measurements'].map(lambda v:v['data']['frequency_domain_features']['shaft_3x'])\n",
    "z_acc['shaft_3x_to_10x_sum'] = z_acc['measurements'].map(lambda v:v['data']['frequency_domain_features']['shaft_3x_to_10x_sum'])"
   ]
  },
  {
   "cell_type": "code",
   "execution_count": 24,
   "metadata": {
    "collapsed": true
   },
   "outputs": [],
   "source": [
    "z_acc.drop(['location_id', 'location_name', 'machine_name', 'measurements'], inplace = True, axis = 1)"
   ]
  },
  {
   "cell_type": "code",
   "execution_count": 25,
   "metadata": {
    "collapsed": true
   },
   "outputs": [],
   "source": [
    "z_vel.drop(['location_id', 'location_name', 'machine_name', 'measurements'], inplace = True, axis = 1)"
   ]
  },
  {
   "cell_type": "code",
   "execution_count": 26,
   "metadata": {
    "collapsed": false
   },
   "outputs": [],
   "source": [
    "x_acc = x_acc.merge(x_vel, on= 'timestamp')"
   ]
  },
  {
   "cell_type": "code",
   "execution_count": 27,
   "metadata": {
    "collapsed": true
   },
   "outputs": [],
   "source": [
    "x_acc.columns = ['timestamp', 'x_acc_cf', 'x_acc_p2p', 'x_acc_peak', 'x_acc_rms', 'x_acc_shaft1x', 'x_acc_shaft2x', 'x_acc_shaft3x', 'x_acc_shaft3xto10xsum', 'x_vel_cf', 'x_vel_p2p','x_vel_peak', 'x_vel_rms', 'x_vel_shaft1x', 'x_vel_shaft2x', 'x_vel_shaft3x', 'x_vel_shaft3xto10xsum' ]"
   ]
  },
  {
   "cell_type": "code",
   "execution_count": 28,
   "metadata": {
    "collapsed": false
   },
   "outputs": [
    {
     "data": {
      "text/html": [
       "<div>\n",
       "<table border=\"1\" class=\"dataframe\">\n",
       "  <thead>\n",
       "    <tr style=\"text-align: right;\">\n",
       "      <th></th>\n",
       "      <th>timestamp</th>\n",
       "      <th>x_acc_cf</th>\n",
       "      <th>x_acc_p2p</th>\n",
       "      <th>x_acc_peak</th>\n",
       "      <th>x_acc_rms</th>\n",
       "      <th>x_acc_shaft1x</th>\n",
       "      <th>x_acc_shaft2x</th>\n",
       "      <th>x_acc_shaft3x</th>\n",
       "      <th>x_acc_shaft3xto10xsum</th>\n",
       "      <th>x_vel_cf</th>\n",
       "      <th>x_vel_p2p</th>\n",
       "      <th>x_vel_peak</th>\n",
       "      <th>x_vel_rms</th>\n",
       "      <th>x_vel_shaft1x</th>\n",
       "      <th>x_vel_shaft2x</th>\n",
       "      <th>x_vel_shaft3x</th>\n",
       "      <th>x_vel_shaft3xto10xsum</th>\n",
       "    </tr>\n",
       "  </thead>\n",
       "  <tbody>\n",
       "    <tr>\n",
       "      <th>0</th>\n",
       "      <td>2016-10-19 06:30:55</td>\n",
       "      <td>3.735475</td>\n",
       "      <td>1.278770</td>\n",
       "      <td>0.641561</td>\n",
       "      <td>0.171748</td>\n",
       "      <td>0.062769</td>\n",
       "      <td>0.060467</td>\n",
       "      <td>0.013013</td>\n",
       "      <td>0.072167</td>\n",
       "      <td>2.600441</td>\n",
       "      <td>7.597760</td>\n",
       "      <td>3.805977</td>\n",
       "      <td>1.463589</td>\n",
       "      <td>1.646833</td>\n",
       "      <td>0.793223</td>\n",
       "      <td>0.113306</td>\n",
       "      <td>0.398818</td>\n",
       "    </tr>\n",
       "    <tr>\n",
       "      <th>1</th>\n",
       "      <td>2016-10-23 09:38:41</td>\n",
       "      <td>3.887226</td>\n",
       "      <td>1.091752</td>\n",
       "      <td>0.587924</td>\n",
       "      <td>0.151245</td>\n",
       "      <td>0.059507</td>\n",
       "      <td>0.053684</td>\n",
       "      <td>0.008626</td>\n",
       "      <td>0.075303</td>\n",
       "      <td>2.776744</td>\n",
       "      <td>8.226797</td>\n",
       "      <td>4.151070</td>\n",
       "      <td>1.494942</td>\n",
       "      <td>1.560048</td>\n",
       "      <td>0.703692</td>\n",
       "      <td>0.075382</td>\n",
       "      <td>0.406958</td>\n",
       "    </tr>\n",
       "    <tr>\n",
       "      <th>2</th>\n",
       "      <td>2016-09-23 05:41:25</td>\n",
       "      <td>3.249813</td>\n",
       "      <td>1.001194</td>\n",
       "      <td>0.512187</td>\n",
       "      <td>0.157605</td>\n",
       "      <td>0.039519</td>\n",
       "      <td>0.053709</td>\n",
       "      <td>0.006500</td>\n",
       "      <td>0.038553</td>\n",
       "      <td>3.169659</td>\n",
       "      <td>7.745255</td>\n",
       "      <td>4.262778</td>\n",
       "      <td>1.344870</td>\n",
       "      <td>1.034460</td>\n",
       "      <td>0.702945</td>\n",
       "      <td>0.056465</td>\n",
       "      <td>0.206511</td>\n",
       "    </tr>\n",
       "    <tr>\n",
       "      <th>3</th>\n",
       "      <td>2016-10-11 18:13:36</td>\n",
       "      <td>4.351854</td>\n",
       "      <td>1.501042</td>\n",
       "      <td>0.776067</td>\n",
       "      <td>0.178330</td>\n",
       "      <td>0.058147</td>\n",
       "      <td>0.044012</td>\n",
       "      <td>0.007117</td>\n",
       "      <td>0.048917</td>\n",
       "      <td>3.201963</td>\n",
       "      <td>9.235602</td>\n",
       "      <td>4.839630</td>\n",
       "      <td>1.511457</td>\n",
       "      <td>1.523469</td>\n",
       "      <td>0.576557</td>\n",
       "      <td>0.061883</td>\n",
       "      <td>0.267295</td>\n",
       "    </tr>\n",
       "    <tr>\n",
       "      <th>4</th>\n",
       "      <td>2016-10-11 21:13:40</td>\n",
       "      <td>4.341312</td>\n",
       "      <td>1.450610</td>\n",
       "      <td>0.789510</td>\n",
       "      <td>0.181860</td>\n",
       "      <td>0.049995</td>\n",
       "      <td>0.053719</td>\n",
       "      <td>0.005913</td>\n",
       "      <td>0.046581</td>\n",
       "      <td>3.038658</td>\n",
       "      <td>8.385373</td>\n",
       "      <td>4.446082</td>\n",
       "      <td>1.463173</td>\n",
       "      <td>1.311487</td>\n",
       "      <td>0.704587</td>\n",
       "      <td>0.051704</td>\n",
       "      <td>0.234590</td>\n",
       "    </tr>\n",
       "  </tbody>\n",
       "</table>\n",
       "</div>"
      ],
      "text/plain": [
       "             timestamp  x_acc_cf  x_acc_p2p  x_acc_peak  x_acc_rms  \\\n",
       "0  2016-10-19 06:30:55  3.735475   1.278770    0.641561   0.171748   \n",
       "1  2016-10-23 09:38:41  3.887226   1.091752    0.587924   0.151245   \n",
       "2  2016-09-23 05:41:25  3.249813   1.001194    0.512187   0.157605   \n",
       "3  2016-10-11 18:13:36  4.351854   1.501042    0.776067   0.178330   \n",
       "4  2016-10-11 21:13:40  4.341312   1.450610    0.789510   0.181860   \n",
       "\n",
       "   x_acc_shaft1x  x_acc_shaft2x  x_acc_shaft3x  x_acc_shaft3xto10xsum  \\\n",
       "0       0.062769       0.060467       0.013013               0.072167   \n",
       "1       0.059507       0.053684       0.008626               0.075303   \n",
       "2       0.039519       0.053709       0.006500               0.038553   \n",
       "3       0.058147       0.044012       0.007117               0.048917   \n",
       "4       0.049995       0.053719       0.005913               0.046581   \n",
       "\n",
       "   x_vel_cf  x_vel_p2p  x_vel_peak  x_vel_rms  x_vel_shaft1x  x_vel_shaft2x  \\\n",
       "0  2.600441   7.597760    3.805977   1.463589       1.646833       0.793223   \n",
       "1  2.776744   8.226797    4.151070   1.494942       1.560048       0.703692   \n",
       "2  3.169659   7.745255    4.262778   1.344870       1.034460       0.702945   \n",
       "3  3.201963   9.235602    4.839630   1.511457       1.523469       0.576557   \n",
       "4  3.038658   8.385373    4.446082   1.463173       1.311487       0.704587   \n",
       "\n",
       "   x_vel_shaft3x  x_vel_shaft3xto10xsum  \n",
       "0       0.113306               0.398818  \n",
       "1       0.075382               0.406958  \n",
       "2       0.056465               0.206511  \n",
       "3       0.061883               0.267295  \n",
       "4       0.051704               0.234590  "
      ]
     },
     "execution_count": 28,
     "metadata": {},
     "output_type": "execute_result"
    }
   ],
   "source": [
    "x_acc.head()"
   ]
  },
  {
   "cell_type": "code",
   "execution_count": 29,
   "metadata": {
    "collapsed": true
   },
   "outputs": [],
   "source": [
    "y_acc.columns = ['timestamp', 'y_acc_cf', 'y_acc_p2p', 'y_acc_peak', 'y_acc_rms', 'y_acc_shaft1x', 'y_acc_shaft2x', 'y_acc_shaft3x', 'y_acc_shaft3xto10xsum']"
   ]
  },
  {
   "cell_type": "code",
   "execution_count": 30,
   "metadata": {
    "collapsed": true
   },
   "outputs": [],
   "source": [
    "y_vel.columns = ['timestamp', 'y_vel_cf', 'y_vel_p2p','y_vel_peak', 'y_vel_rms', 'y_vel_shaft1x', 'y_vel_shaft2x', 'y_vel_shaft3x', 'y_vel_shaft3xto10xsum']"
   ]
  },
  {
   "cell_type": "code",
   "execution_count": 31,
   "metadata": {
    "collapsed": true
   },
   "outputs": [],
   "source": [
    "z_acc.columns = ['timestamp', 'z_acc_cf', 'z_acc_p2p', 'z_acc_peak', 'z_acc_rms', 'z_acc_shaft1x', 'z_acc_shaft2x', 'z_acc_shaft3x', 'z_acc_shaft3xto10xsum']"
   ]
  },
  {
   "cell_type": "code",
   "execution_count": 32,
   "metadata": {
    "collapsed": true
   },
   "outputs": [],
   "source": [
    "z_vel.columns = ['timestamp', 'z_vel_cf', 'z_vel_p2p','z_vel_peak', 'z_vel_rms', 'z_vel_shaft1x', 'z_vel_shaft2x', 'z_vel_shaft3x', 'z_vel_shaft3xto10xsum']"
   ]
  },
  {
   "cell_type": "code",
   "execution_count": 33,
   "metadata": {
    "collapsed": true
   },
   "outputs": [],
   "source": [
    "x_acc = x_acc.merge(y_acc, on= 'timestamp')"
   ]
  },
  {
   "cell_type": "code",
   "execution_count": 34,
   "metadata": {
    "collapsed": true
   },
   "outputs": [],
   "source": [
    "x_acc = x_acc.merge(y_vel, on= 'timestamp')"
   ]
  },
  {
   "cell_type": "code",
   "execution_count": 35,
   "metadata": {
    "collapsed": true
   },
   "outputs": [],
   "source": [
    "x_acc = x_acc.merge(z_acc, on= 'timestamp')"
   ]
  },
  {
   "cell_type": "code",
   "execution_count": 36,
   "metadata": {
    "collapsed": true
   },
   "outputs": [],
   "source": [
    "features_data = x_acc.merge(z_vel, on= 'timestamp')"
   ]
  },
  {
   "cell_type": "code",
   "execution_count": 37,
   "metadata": {
    "collapsed": false
   },
   "outputs": [
    {
     "data": {
      "text/html": [
       "<div>\n",
       "<table border=\"1\" class=\"dataframe\">\n",
       "  <thead>\n",
       "    <tr style=\"text-align: right;\">\n",
       "      <th></th>\n",
       "      <th>timestamp</th>\n",
       "      <th>x_acc_cf</th>\n",
       "      <th>x_acc_p2p</th>\n",
       "      <th>x_acc_peak</th>\n",
       "      <th>x_acc_rms</th>\n",
       "      <th>x_acc_shaft1x</th>\n",
       "      <th>x_acc_shaft2x</th>\n",
       "      <th>x_acc_shaft3x</th>\n",
       "      <th>x_acc_shaft3xto10xsum</th>\n",
       "      <th>x_vel_cf</th>\n",
       "      <th>...</th>\n",
       "      <th>z_acc_shaft3x</th>\n",
       "      <th>z_acc_shaft3xto10xsum</th>\n",
       "      <th>z_vel_cf</th>\n",
       "      <th>z_vel_p2p</th>\n",
       "      <th>z_vel_peak</th>\n",
       "      <th>z_vel_rms</th>\n",
       "      <th>z_vel_shaft1x</th>\n",
       "      <th>z_vel_shaft2x</th>\n",
       "      <th>z_vel_shaft3x</th>\n",
       "      <th>z_vel_shaft3xto10xsum</th>\n",
       "    </tr>\n",
       "  </thead>\n",
       "  <tbody>\n",
       "    <tr>\n",
       "      <th>0</th>\n",
       "      <td>2016-10-19 06:30:55</td>\n",
       "      <td>3.735475</td>\n",
       "      <td>1.278770</td>\n",
       "      <td>0.641561</td>\n",
       "      <td>0.171748</td>\n",
       "      <td>0.062769</td>\n",
       "      <td>0.060467</td>\n",
       "      <td>0.013013</td>\n",
       "      <td>0.072167</td>\n",
       "      <td>2.600441</td>\n",
       "      <td>...</td>\n",
       "      <td>0.011166</td>\n",
       "      <td>0.069669</td>\n",
       "      <td>2.086905</td>\n",
       "      <td>10.127254</td>\n",
       "      <td>5.114653</td>\n",
       "      <td>2.450832</td>\n",
       "      <td>3.416909</td>\n",
       "      <td>0.147021</td>\n",
       "      <td>0.097655</td>\n",
       "      <td>0.373733</td>\n",
       "    </tr>\n",
       "    <tr>\n",
       "      <th>1</th>\n",
       "      <td>2016-10-23 09:38:41</td>\n",
       "      <td>3.887226</td>\n",
       "      <td>1.091752</td>\n",
       "      <td>0.587924</td>\n",
       "      <td>0.151245</td>\n",
       "      <td>0.059507</td>\n",
       "      <td>0.053684</td>\n",
       "      <td>0.008626</td>\n",
       "      <td>0.075303</td>\n",
       "      <td>2.776744</td>\n",
       "      <td>...</td>\n",
       "      <td>0.010892</td>\n",
       "      <td>0.065411</td>\n",
       "      <td>2.233392</td>\n",
       "      <td>10.955886</td>\n",
       "      <td>5.600965</td>\n",
       "      <td>2.507828</td>\n",
       "      <td>3.362860</td>\n",
       "      <td>0.142458</td>\n",
       "      <td>0.094762</td>\n",
       "      <td>0.364495</td>\n",
       "    </tr>\n",
       "    <tr>\n",
       "      <th>2</th>\n",
       "      <td>2016-09-23 05:41:25</td>\n",
       "      <td>3.249813</td>\n",
       "      <td>1.001194</td>\n",
       "      <td>0.512187</td>\n",
       "      <td>0.157605</td>\n",
       "      <td>0.039519</td>\n",
       "      <td>0.053709</td>\n",
       "      <td>0.006500</td>\n",
       "      <td>0.038553</td>\n",
       "      <td>3.169659</td>\n",
       "      <td>...</td>\n",
       "      <td>0.003494</td>\n",
       "      <td>0.037409</td>\n",
       "      <td>2.680320</td>\n",
       "      <td>13.370189</td>\n",
       "      <td>6.914493</td>\n",
       "      <td>2.579727</td>\n",
       "      <td>3.102257</td>\n",
       "      <td>0.104225</td>\n",
       "      <td>0.030350</td>\n",
       "      <td>0.161293</td>\n",
       "    </tr>\n",
       "    <tr>\n",
       "      <th>3</th>\n",
       "      <td>2016-10-11 18:13:36</td>\n",
       "      <td>4.351854</td>\n",
       "      <td>1.501042</td>\n",
       "      <td>0.776067</td>\n",
       "      <td>0.178330</td>\n",
       "      <td>0.058147</td>\n",
       "      <td>0.044012</td>\n",
       "      <td>0.007117</td>\n",
       "      <td>0.048917</td>\n",
       "      <td>3.201963</td>\n",
       "      <td>...</td>\n",
       "      <td>0.006225</td>\n",
       "      <td>0.044278</td>\n",
       "      <td>2.047138</td>\n",
       "      <td>13.743354</td>\n",
       "      <td>7.073534</td>\n",
       "      <td>3.455328</td>\n",
       "      <td>4.867590</td>\n",
       "      <td>0.120306</td>\n",
       "      <td>0.054363</td>\n",
       "      <td>0.241907</td>\n",
       "    </tr>\n",
       "    <tr>\n",
       "      <th>4</th>\n",
       "      <td>2016-10-11 21:13:40</td>\n",
       "      <td>4.341312</td>\n",
       "      <td>1.450610</td>\n",
       "      <td>0.789510</td>\n",
       "      <td>0.181860</td>\n",
       "      <td>0.049995</td>\n",
       "      <td>0.053719</td>\n",
       "      <td>0.005913</td>\n",
       "      <td>0.046581</td>\n",
       "      <td>3.038658</td>\n",
       "      <td>...</td>\n",
       "      <td>0.007487</td>\n",
       "      <td>0.051360</td>\n",
       "      <td>2.187655</td>\n",
       "      <td>10.474327</td>\n",
       "      <td>5.348215</td>\n",
       "      <td>2.444725</td>\n",
       "      <td>3.080126</td>\n",
       "      <td>0.143754</td>\n",
       "      <td>0.065177</td>\n",
       "      <td>0.260787</td>\n",
       "    </tr>\n",
       "  </tbody>\n",
       "</table>\n",
       "<p>5 rows × 49 columns</p>\n",
       "</div>"
      ],
      "text/plain": [
       "             timestamp  x_acc_cf  x_acc_p2p  x_acc_peak  x_acc_rms  \\\n",
       "0  2016-10-19 06:30:55  3.735475   1.278770    0.641561   0.171748   \n",
       "1  2016-10-23 09:38:41  3.887226   1.091752    0.587924   0.151245   \n",
       "2  2016-09-23 05:41:25  3.249813   1.001194    0.512187   0.157605   \n",
       "3  2016-10-11 18:13:36  4.351854   1.501042    0.776067   0.178330   \n",
       "4  2016-10-11 21:13:40  4.341312   1.450610    0.789510   0.181860   \n",
       "\n",
       "   x_acc_shaft1x  x_acc_shaft2x  x_acc_shaft3x  x_acc_shaft3xto10xsum  \\\n",
       "0       0.062769       0.060467       0.013013               0.072167   \n",
       "1       0.059507       0.053684       0.008626               0.075303   \n",
       "2       0.039519       0.053709       0.006500               0.038553   \n",
       "3       0.058147       0.044012       0.007117               0.048917   \n",
       "4       0.049995       0.053719       0.005913               0.046581   \n",
       "\n",
       "   x_vel_cf          ...            z_acc_shaft3x  z_acc_shaft3xto10xsum  \\\n",
       "0  2.600441          ...                 0.011166               0.069669   \n",
       "1  2.776744          ...                 0.010892               0.065411   \n",
       "2  3.169659          ...                 0.003494               0.037409   \n",
       "3  3.201963          ...                 0.006225               0.044278   \n",
       "4  3.038658          ...                 0.007487               0.051360   \n",
       "\n",
       "   z_vel_cf  z_vel_p2p  z_vel_peak  z_vel_rms  z_vel_shaft1x  z_vel_shaft2x  \\\n",
       "0  2.086905  10.127254    5.114653   2.450832       3.416909       0.147021   \n",
       "1  2.233392  10.955886    5.600965   2.507828       3.362860       0.142458   \n",
       "2  2.680320  13.370189    6.914493   2.579727       3.102257       0.104225   \n",
       "3  2.047138  13.743354    7.073534   3.455328       4.867590       0.120306   \n",
       "4  2.187655  10.474327    5.348215   2.444725       3.080126       0.143754   \n",
       "\n",
       "   z_vel_shaft3x  z_vel_shaft3xto10xsum  \n",
       "0       0.097655               0.373733  \n",
       "1       0.094762               0.364495  \n",
       "2       0.030350               0.161293  \n",
       "3       0.054363               0.241907  \n",
       "4       0.065177               0.260787  \n",
       "\n",
       "[5 rows x 49 columns]"
      ]
     },
     "execution_count": 37,
     "metadata": {},
     "output_type": "execute_result"
    }
   ],
   "source": [
    "features_data.head()"
   ]
  },
  {
   "cell_type": "code",
   "execution_count": 38,
   "metadata": {
    "collapsed": false
   },
   "outputs": [
    {
     "data": {
      "text/html": [
       "<div>\n",
       "<table border=\"1\" class=\"dataframe\">\n",
       "  <thead>\n",
       "    <tr style=\"text-align: right;\">\n",
       "      <th></th>\n",
       "      <th>x_acc_cf</th>\n",
       "      <th>x_acc_p2p</th>\n",
       "      <th>x_acc_peak</th>\n",
       "      <th>x_acc_rms</th>\n",
       "      <th>x_acc_shaft1x</th>\n",
       "      <th>x_acc_shaft2x</th>\n",
       "      <th>x_acc_shaft3x</th>\n",
       "      <th>x_acc_shaft3xto10xsum</th>\n",
       "      <th>x_vel_cf</th>\n",
       "      <th>x_vel_p2p</th>\n",
       "      <th>...</th>\n",
       "      <th>z_acc_shaft3x</th>\n",
       "      <th>z_acc_shaft3xto10xsum</th>\n",
       "      <th>z_vel_cf</th>\n",
       "      <th>z_vel_p2p</th>\n",
       "      <th>z_vel_peak</th>\n",
       "      <th>z_vel_rms</th>\n",
       "      <th>z_vel_shaft1x</th>\n",
       "      <th>z_vel_shaft2x</th>\n",
       "      <th>z_vel_shaft3x</th>\n",
       "      <th>z_vel_shaft3xto10xsum</th>\n",
       "    </tr>\n",
       "  </thead>\n",
       "  <tbody>\n",
       "    <tr>\n",
       "      <th>count</th>\n",
       "      <td>2550.000000</td>\n",
       "      <td>2550.000000</td>\n",
       "      <td>2550.000000</td>\n",
       "      <td>2550.000000</td>\n",
       "      <td>2550.000000</td>\n",
       "      <td>2550.000000</td>\n",
       "      <td>2550.000000</td>\n",
       "      <td>2550.000000</td>\n",
       "      <td>2550.000000</td>\n",
       "      <td>2550.000000</td>\n",
       "      <td>...</td>\n",
       "      <td>2550.000000</td>\n",
       "      <td>2550.000000</td>\n",
       "      <td>2550.000000</td>\n",
       "      <td>2550.000000</td>\n",
       "      <td>2550.000000</td>\n",
       "      <td>2550.000000</td>\n",
       "      <td>2550.000000</td>\n",
       "      <td>2550.000000</td>\n",
       "      <td>2550.000000</td>\n",
       "      <td>2550.000000</td>\n",
       "    </tr>\n",
       "    <tr>\n",
       "      <th>mean</th>\n",
       "      <td>4.067895</td>\n",
       "      <td>1.125446</td>\n",
       "      <td>0.596451</td>\n",
       "      <td>0.146752</td>\n",
       "      <td>0.062906</td>\n",
       "      <td>0.051120</td>\n",
       "      <td>0.009700</td>\n",
       "      <td>0.055689</td>\n",
       "      <td>2.917370</td>\n",
       "      <td>8.529302</td>\n",
       "      <td>...</td>\n",
       "      <td>0.007844</td>\n",
       "      <td>0.047254</td>\n",
       "      <td>2.228560</td>\n",
       "      <td>11.772536</td>\n",
       "      <td>6.070013</td>\n",
       "      <td>2.757094</td>\n",
       "      <td>3.687221</td>\n",
       "      <td>0.128325</td>\n",
       "      <td>0.068522</td>\n",
       "      <td>0.261377</td>\n",
       "    </tr>\n",
       "    <tr>\n",
       "      <th>std</th>\n",
       "      <td>0.365024</td>\n",
       "      <td>0.160467</td>\n",
       "      <td>0.091540</td>\n",
       "      <td>0.019417</td>\n",
       "      <td>0.015363</td>\n",
       "      <td>0.011782</td>\n",
       "      <td>0.005938</td>\n",
       "      <td>0.021474</td>\n",
       "      <td>0.259031</td>\n",
       "      <td>1.364086</td>\n",
       "      <td>...</td>\n",
       "      <td>0.003589</td>\n",
       "      <td>0.017199</td>\n",
       "      <td>0.228763</td>\n",
       "      <td>1.925331</td>\n",
       "      <td>1.011315</td>\n",
       "      <td>0.585570</td>\n",
       "      <td>0.918890</td>\n",
       "      <td>0.030479</td>\n",
       "      <td>0.031342</td>\n",
       "      <td>0.110254</td>\n",
       "    </tr>\n",
       "    <tr>\n",
       "      <th>min</th>\n",
       "      <td>3.249813</td>\n",
       "      <td>0.664670</td>\n",
       "      <td>0.337113</td>\n",
       "      <td>0.090850</td>\n",
       "      <td>0.006810</td>\n",
       "      <td>0.018068</td>\n",
       "      <td>0.001687</td>\n",
       "      <td>0.025344</td>\n",
       "      <td>2.289435</td>\n",
       "      <td>5.488772</td>\n",
       "      <td>...</td>\n",
       "      <td>0.001269</td>\n",
       "      <td>0.020655</td>\n",
       "      <td>1.724041</td>\n",
       "      <td>7.746362</td>\n",
       "      <td>3.945074</td>\n",
       "      <td>1.790811</td>\n",
       "      <td>1.731870</td>\n",
       "      <td>0.042402</td>\n",
       "      <td>0.011081</td>\n",
       "      <td>0.111597</td>\n",
       "    </tr>\n",
       "    <tr>\n",
       "      <th>25%</th>\n",
       "      <td>3.817542</td>\n",
       "      <td>1.012909</td>\n",
       "      <td>0.531945</td>\n",
       "      <td>0.133152</td>\n",
       "      <td>0.053530</td>\n",
       "      <td>0.043139</td>\n",
       "      <td>0.005813</td>\n",
       "      <td>0.040645</td>\n",
       "      <td>2.733373</td>\n",
       "      <td>7.592368</td>\n",
       "      <td>...</td>\n",
       "      <td>0.005274</td>\n",
       "      <td>0.034575</td>\n",
       "      <td>2.067059</td>\n",
       "      <td>10.377726</td>\n",
       "      <td>5.335567</td>\n",
       "      <td>2.352798</td>\n",
       "      <td>3.073908</td>\n",
       "      <td>0.106810</td>\n",
       "      <td>0.046221</td>\n",
       "      <td>0.181888</td>\n",
       "    </tr>\n",
       "    <tr>\n",
       "      <th>50%</th>\n",
       "      <td>4.015645</td>\n",
       "      <td>1.120076</td>\n",
       "      <td>0.590745</td>\n",
       "      <td>0.146643</td>\n",
       "      <td>0.059678</td>\n",
       "      <td>0.051670</td>\n",
       "      <td>0.007925</td>\n",
       "      <td>0.049340</td>\n",
       "      <td>2.891396</td>\n",
       "      <td>8.198022</td>\n",
       "      <td>...</td>\n",
       "      <td>0.007082</td>\n",
       "      <td>0.042613</td>\n",
       "      <td>2.206641</td>\n",
       "      <td>11.437346</td>\n",
       "      <td>5.892570</td>\n",
       "      <td>2.611158</td>\n",
       "      <td>3.477760</td>\n",
       "      <td>0.127982</td>\n",
       "      <td>0.061719</td>\n",
       "      <td>0.226884</td>\n",
       "    </tr>\n",
       "    <tr>\n",
       "      <th>75%</th>\n",
       "      <td>4.263368</td>\n",
       "      <td>1.226243</td>\n",
       "      <td>0.653494</td>\n",
       "      <td>0.158919</td>\n",
       "      <td>0.067570</td>\n",
       "      <td>0.058856</td>\n",
       "      <td>0.011522</td>\n",
       "      <td>0.063667</td>\n",
       "      <td>3.064196</td>\n",
       "      <td>9.087871</td>\n",
       "      <td>...</td>\n",
       "      <td>0.009533</td>\n",
       "      <td>0.055434</td>\n",
       "      <td>2.354270</td>\n",
       "      <td>12.762515</td>\n",
       "      <td>6.640172</td>\n",
       "      <td>2.967775</td>\n",
       "      <td>4.095529</td>\n",
       "      <td>0.149040</td>\n",
       "      <td>0.083325</td>\n",
       "      <td>0.310839</td>\n",
       "    </tr>\n",
       "    <tr>\n",
       "      <th>max</th>\n",
       "      <td>6.057677</td>\n",
       "      <td>1.912351</td>\n",
       "      <td>1.055386</td>\n",
       "      <td>0.258052</td>\n",
       "      <td>0.106900</td>\n",
       "      <td>0.094415</td>\n",
       "      <td>0.039420</td>\n",
       "      <td>0.172742</td>\n",
       "      <td>4.190304</td>\n",
       "      <td>13.863471</td>\n",
       "      <td>...</td>\n",
       "      <td>0.030821</td>\n",
       "      <td>0.125609</td>\n",
       "      <td>3.445992</td>\n",
       "      <td>20.010778</td>\n",
       "      <td>10.453063</td>\n",
       "      <td>5.116988</td>\n",
       "      <td>7.325882</td>\n",
       "      <td>0.230904</td>\n",
       "      <td>0.268925</td>\n",
       "      <td>0.778135</td>\n",
       "    </tr>\n",
       "  </tbody>\n",
       "</table>\n",
       "<p>8 rows × 48 columns</p>\n",
       "</div>"
      ],
      "text/plain": [
       "          x_acc_cf    x_acc_p2p   x_acc_peak    x_acc_rms  x_acc_shaft1x  \\\n",
       "count  2550.000000  2550.000000  2550.000000  2550.000000    2550.000000   \n",
       "mean      4.067895     1.125446     0.596451     0.146752       0.062906   \n",
       "std       0.365024     0.160467     0.091540     0.019417       0.015363   \n",
       "min       3.249813     0.664670     0.337113     0.090850       0.006810   \n",
       "25%       3.817542     1.012909     0.531945     0.133152       0.053530   \n",
       "50%       4.015645     1.120076     0.590745     0.146643       0.059678   \n",
       "75%       4.263368     1.226243     0.653494     0.158919       0.067570   \n",
       "max       6.057677     1.912351     1.055386     0.258052       0.106900   \n",
       "\n",
       "       x_acc_shaft2x  x_acc_shaft3x  x_acc_shaft3xto10xsum     x_vel_cf  \\\n",
       "count    2550.000000    2550.000000            2550.000000  2550.000000   \n",
       "mean        0.051120       0.009700               0.055689     2.917370   \n",
       "std         0.011782       0.005938               0.021474     0.259031   \n",
       "min         0.018068       0.001687               0.025344     2.289435   \n",
       "25%         0.043139       0.005813               0.040645     2.733373   \n",
       "50%         0.051670       0.007925               0.049340     2.891396   \n",
       "75%         0.058856       0.011522               0.063667     3.064196   \n",
       "max         0.094415       0.039420               0.172742     4.190304   \n",
       "\n",
       "         x_vel_p2p          ...            z_acc_shaft3x  \\\n",
       "count  2550.000000          ...              2550.000000   \n",
       "mean      8.529302          ...                 0.007844   \n",
       "std       1.364086          ...                 0.003589   \n",
       "min       5.488772          ...                 0.001269   \n",
       "25%       7.592368          ...                 0.005274   \n",
       "50%       8.198022          ...                 0.007082   \n",
       "75%       9.087871          ...                 0.009533   \n",
       "max      13.863471          ...                 0.030821   \n",
       "\n",
       "       z_acc_shaft3xto10xsum     z_vel_cf    z_vel_p2p   z_vel_peak  \\\n",
       "count            2550.000000  2550.000000  2550.000000  2550.000000   \n",
       "mean                0.047254     2.228560    11.772536     6.070013   \n",
       "std                 0.017199     0.228763     1.925331     1.011315   \n",
       "min                 0.020655     1.724041     7.746362     3.945074   \n",
       "25%                 0.034575     2.067059    10.377726     5.335567   \n",
       "50%                 0.042613     2.206641    11.437346     5.892570   \n",
       "75%                 0.055434     2.354270    12.762515     6.640172   \n",
       "max                 0.125609     3.445992    20.010778    10.453063   \n",
       "\n",
       "         z_vel_rms  z_vel_shaft1x  z_vel_shaft2x  z_vel_shaft3x  \\\n",
       "count  2550.000000    2550.000000    2550.000000    2550.000000   \n",
       "mean      2.757094       3.687221       0.128325       0.068522   \n",
       "std       0.585570       0.918890       0.030479       0.031342   \n",
       "min       1.790811       1.731870       0.042402       0.011081   \n",
       "25%       2.352798       3.073908       0.106810       0.046221   \n",
       "50%       2.611158       3.477760       0.127982       0.061719   \n",
       "75%       2.967775       4.095529       0.149040       0.083325   \n",
       "max       5.116988       7.325882       0.230904       0.268925   \n",
       "\n",
       "       z_vel_shaft3xto10xsum  \n",
       "count            2550.000000  \n",
       "mean                0.261377  \n",
       "std                 0.110254  \n",
       "min                 0.111597  \n",
       "25%                 0.181888  \n",
       "50%                 0.226884  \n",
       "75%                 0.310839  \n",
       "max                 0.778135  \n",
       "\n",
       "[8 rows x 48 columns]"
      ]
     },
     "execution_count": 38,
     "metadata": {},
     "output_type": "execute_result"
    }
   ],
   "source": [
    "features_data.describe()"
   ]
  },
  {
   "cell_type": "code",
   "execution_count": 39,
   "metadata": {
    "collapsed": true
   },
   "outputs": [],
   "source": [
    "features_data.to_csv('features_data.csv')"
   ]
  },
  {
   "cell_type": "code",
   "execution_count": null,
   "metadata": {
    "collapsed": false
   },
   "outputs": [],
   "source": [
    "features_data = features_data.sort('timestamp')"
   ]
  },
  {
   "cell_type": "code",
   "execution_count": null,
   "metadata": {
    "collapsed": false
   },
   "outputs": [],
   "source": [
    "features_data.head()"
   ]
  },
  {
   "cell_type": "code",
   "execution_count": null,
   "metadata": {
    "collapsed": true
   },
   "outputs": [],
   "source": []
  }
 ],
 "metadata": {
  "kernelspec": {
   "display_name": "Python 2",
   "language": "python",
   "name": "python2"
  },
  "language_info": {
   "codemirror_mode": {
    "name": "ipython",
    "version": 2
   },
   "file_extension": ".py",
   "mimetype": "text/x-python",
   "name": "python",
   "nbconvert_exporter": "python",
   "pygments_lexer": "ipython2",
   "version": "2.7.13"
  }
 },
 "nbformat": 4,
 "nbformat_minor": 2
}
