{
 "cells": [
  {
   "cell_type": "code",
   "execution_count": null,
   "metadata": {
    "collapsed": true
   },
   "outputs": [],
   "source": [
    "import pandas as pd\n",
    "\n",
    "x_acc = pd.read_json('measurement_data_37_L2_x_acceleration.json')\n",
    "x_vel = pd.read_json('measurement_data_37_L2_x_velocity.json')\n",
    "y_acc = pd.read_json('measurement_data_37_L2_y_acceleration.json')\n",
    "y_vel = pd.read_json('measurement_data_37_L2_y_velocity.json')"
   ]
  },
  {
   "cell_type": "code",
   "execution_count": null,
   "metadata": {
    "collapsed": false
   },
   "outputs": [],
   "source": [
    "df_sample = x_acc.head()"
   ]
  },
  {
   "cell_type": "code",
   "execution_count": null,
   "metadata": {
    "collapsed": false
   },
   "outputs": [],
   "source": [
    "df_sample"
   ]
  },
  {
   "cell_type": "code",
   "execution_count": null,
   "metadata": {
    "collapsed": false
   },
   "outputs": [],
   "source": [
    "x_acc['timestamp'] = x_acc['measurements'].map(lambda v:v['timestamp'])"
   ]
  },
  {
   "cell_type": "code",
   "execution_count": null,
   "metadata": {
    "collapsed": false
   },
   "outputs": [],
   "source": [
    "x_acc.head()"
   ]
  },
  {
   "cell_type": "code",
   "execution_count": null,
   "metadata": {
    "collapsed": false
   },
   "outputs": [],
   "source": [
    "x_acc['crest_factor'] = x_acc['measurements'].map(lambda v:v['data']['time_domain_features']['crest_factor'])"
   ]
  },
  {
   "cell_type": "code",
   "execution_count": null,
   "metadata": {
    "collapsed": true
   },
   "outputs": [],
   "source": [
    "x_acc['p2p'] = x_acc['measurements'].map(lambda v:v['data']['time_domain_features']['p2p'])\n",
    "x_acc['peak'] = x_acc['measurements'].map(lambda v:v['data']['time_domain_features']['peak'])\n",
    "x_acc['rms'] = x_acc['measurements'].map(lambda v:v['data']['time_domain_features']['rms'])"
   ]
  },
  {
   "cell_type": "code",
   "execution_count": null,
   "metadata": {
    "collapsed": true
   },
   "outputs": [],
   "source": [
    "x_acc['shaft_1x'] = x_acc['measurements'].map(lambda v:v['data']['frequency_domain_features']['shaft_1x'])\n",
    "x_acc['shaft_2x'] = x_acc['measurements'].map(lambda v:v['data']['frequency_domain_features']['shaft_2x'])\n",
    "x_acc['shaft_3x'] = x_acc['measurements'].map(lambda v:v['data']['frequency_domain_features']['shaft_3x'])\n",
    "x_acc['shaft_3x_to_10x_sum'] = x_acc['measurements'].map(lambda v:v['data']['frequency_domain_features']['shaft_3x_to_10x_sum'])"
   ]
  },
  {
   "cell_type": "code",
   "execution_count": null,
   "metadata": {
    "collapsed": false
   },
   "outputs": [],
   "source": [
    "x_acc.head()"
   ]
  },
  {
   "cell_type": "code",
   "execution_count": null,
   "metadata": {
    "collapsed": false
   },
   "outputs": [],
   "source": [
    "x_acc.drop(['location_id', 'location_name', 'machine_name', 'measurements'], inplace = True, axis = 1)"
   ]
  },
  {
   "cell_type": "code",
   "execution_count": null,
   "metadata": {
    "collapsed": false
   },
   "outputs": [],
   "source": [
    "x_acc.head()"
   ]
  },
  {
   "cell_type": "code",
   "execution_count": null,
   "metadata": {
    "collapsed": true
   },
   "outputs": [],
   "source": [
    "x_vel['timestamp'] = x_vel['measurements'].map(lambda v:v['timestamp'])\n",
    "x_vel['crest_factor'] = x_vel['measurements'].map(lambda v:v['data']['time_domain_features']['crest_factor'])\n",
    "x_vel['p2p'] = x_vel['measurements'].map(lambda v:v['data']['time_domain_features']['p2p'])\n",
    "x_vel['peak'] = x_vel['measurements'].map(lambda v:v['data']['time_domain_features']['peak'])\n",
    "x_vel['rms'] = x_vel['measurements'].map(lambda v:v['data']['time_domain_features']['rms'])\n",
    "x_vel['shaft_1x'] = x_vel['measurements'].map(lambda v:v['data']['frequency_domain_features']['shaft_1x'])\n",
    "x_vel['shaft_2x'] = x_vel['measurements'].map(lambda v:v['data']['frequency_domain_features']['shaft_2x'])\n",
    "x_vel['shaft_3x'] = x_vel['measurements'].map(lambda v:v['data']['frequency_domain_features']['shaft_3x'])\n",
    "x_vel['shaft_3x_to_10x_sum'] = x_vel['measurements'].map(lambda v:v['data']['frequency_domain_features']['shaft_3x_to_10x_sum'])"
   ]
  },
  {
   "cell_type": "code",
   "execution_count": null,
   "metadata": {
    "collapsed": false
   },
   "outputs": [],
   "source": [
    "x_vel.drop(['location_id', 'location_name', 'machine_name', 'measurements'], inplace = True, axis = 1)"
   ]
  },
  {
   "cell_type": "code",
   "execution_count": null,
   "metadata": {
    "collapsed": false
   },
   "outputs": [],
   "source": [
    "x_vel.head()"
   ]
  },
  {
   "cell_type": "code",
   "execution_count": null,
   "metadata": {
    "collapsed": true
   },
   "outputs": [],
   "source": [
    "y_vel['timestamp'] = y_vel['measurements'].map(lambda v:v['timestamp'])\n",
    "y_vel['crest_factor'] = y_vel['measurements'].map(lambda v:v['data']['time_domain_features']['crest_factor'])\n",
    "y_vel['p2p'] = y_vel['measurements'].map(lambda v:v['data']['time_domain_features']['p2p'])\n",
    "y_vel['peak'] = y_vel['measurements'].map(lambda v:v['data']['time_domain_features']['peak'])\n",
    "y_vel['rms'] = y_vel['measurements'].map(lambda v:v['data']['time_domain_features']['rms'])\n",
    "y_vel['shaft_1x'] = y_vel['measurements'].map(lambda v:v['data']['frequency_domain_features']['shaft_1x'])\n",
    "y_vel['shaft_2x'] = y_vel['measurements'].map(lambda v:v['data']['frequency_domain_features']['shaft_2x'])\n",
    "y_vel['shaft_3x'] = y_vel['measurements'].map(lambda v:v['data']['frequency_domain_features']['shaft_3x'])\n",
    "y_vel['shaft_3x_to_10x_sum'] = y_vel['measurements'].map(lambda v:v['data']['frequency_domain_features']['shaft_3x_to_10x_sum'])"
   ]
  },
  {
   "cell_type": "code",
   "execution_count": null,
   "metadata": {
    "collapsed": true
   },
   "outputs": [],
   "source": [
    "y_vel.drop(['location_id', 'location_name', 'machine_name', 'measurements'], inplace = True, axis = 1)"
   ]
  },
  {
   "cell_type": "code",
   "execution_count": null,
   "metadata": {
    "collapsed": false
   },
   "outputs": [],
   "source": [
    "y_vel.head()"
   ]
  },
  {
   "cell_type": "code",
   "execution_count": null,
   "metadata": {
    "collapsed": true
   },
   "outputs": [],
   "source": [
    "y_acc['timestamp'] = y_acc['measurements'].map(lambda v:v['timestamp'])\n",
    "y_acc['crest_factor'] = y_acc['measurements'].map(lambda v:v['data']['time_domain_features']['crest_factor'])\n",
    "y_acc['p2p'] = y_acc['measurements'].map(lambda v:v['data']['time_domain_features']['p2p'])\n",
    "y_acc['peak'] = y_acc['measurements'].map(lambda v:v['data']['time_domain_features']['peak'])\n",
    "y_acc['rms'] = y_acc['measurements'].map(lambda v:v['data']['time_domain_features']['rms'])\n",
    "y_acc['shaft_1x'] = y_acc['measurements'].map(lambda v:v['data']['frequency_domain_features']['shaft_1x'])\n",
    "y_acc['shaft_2x'] = y_acc['measurements'].map(lambda v:v['data']['frequency_domain_features']['shaft_2x'])\n",
    "y_acc['shaft_3x'] = y_acc['measurements'].map(lambda v:v['data']['frequency_domain_features']['shaft_3x'])\n",
    "y_acc['shaft_3x_to_10x_sum'] = y_acc['measurements'].map(lambda v:v['data']['frequency_domain_features']['shaft_3x_to_10x_sum'])"
   ]
  },
  {
   "cell_type": "code",
   "execution_count": null,
   "metadata": {
    "collapsed": true
   },
   "outputs": [],
   "source": [
    "y_acc.drop(['location_id', 'location_name', 'machine_name', 'measurements'], inplace = True, axis = 1)"
   ]
  },
  {
   "cell_type": "code",
   "execution_count": null,
   "metadata": {
    "collapsed": false
   },
   "outputs": [],
   "source": [
    "x_acc = x_acc.merge(x_vel, on= 'timestamp')"
   ]
  },
  {
   "cell_type": "code",
   "execution_count": null,
   "metadata": {
    "collapsed": false
   },
   "outputs": [],
   "source": [
    "x_acc.head()"
   ]
  },
  {
   "cell_type": "code",
   "execution_count": null,
   "metadata": {
    "collapsed": true
   },
   "outputs": [],
   "source": [
    "x_acc.columns = ['timestamp', 'x_acc_cf', 'x_acc_p2p', 'x_acc_peak', 'x_acc_rms', 'x_acc_shaft1x', 'x_acc_shaft2x', 'x_acc_shaft3x', 'x_acc_shaft3xto10xsum', 'x_vel_cf', 'x_vel_p2p','x_vel_peak', 'x_vel_rms', 'x_vel_shaft1x', 'x_vel_shaft2x', 'x_vel_shaft3x', 'x_vel_shaft3xto10xsum' ]"
   ]
  },
  {
   "cell_type": "code",
   "execution_count": null,
   "metadata": {
    "collapsed": false
   },
   "outputs": [],
   "source": [
    "x_acc.head()"
   ]
  },
  {
   "cell_type": "code",
   "execution_count": null,
   "metadata": {
    "collapsed": true
   },
   "outputs": [],
   "source": [
    "y_acc.columns = ['timestamp', 'x_acc_cf', 'x_acc_p2p', 'x_acc_peak', 'x_acc_rms', 'x_acc_shaft1x', 'x_acc_shaft2x', 'x_acc_shaft3x', 'x_acc_shaft3xto10xsum']"
   ]
  },
  {
   "cell_type": "code",
   "execution_count": null,
   "metadata": {
    "collapsed": true
   },
   "outputs": [],
   "source": [
    "y_vel.columns = ['timestamp', 'x_vel_cf', 'x_vel_p2p','x_vel_peak', 'x_vel_rms', 'x_vel_shaft1x', 'x_vel_shaft2x', 'x_vel_shaft3x', 'x_vel_shaft3xto10xsum']"
   ]
  },
  {
   "cell_type": "code",
   "execution_count": null,
   "metadata": {
    "collapsed": true
   },
   "outputs": [],
   "source": [
    "x_acc = x_acc.merge(y_acc, on= 'timestamp')"
   ]
  },
  {
   "cell_type": "code",
   "execution_count": null,
   "metadata": {
    "collapsed": true
   },
   "outputs": [],
   "source": [
    "features_data = x_acc.merge(y_vel, on= 'timestamp')"
   ]
  },
  {
   "cell_type": "code",
   "execution_count": null,
   "metadata": {
    "collapsed": false
   },
   "outputs": [],
   "source": [
    "features_data.head()"
   ]
  },
  {
   "cell_type": "code",
   "execution_count": null,
   "metadata": {
    "collapsed": false
   },
   "outputs": [],
   "source": [
    "features_data.describe()"
   ]
  },
  {
   "cell_type": "code",
   "execution_count": null,
   "metadata": {
    "collapsed": false
   },
   "outputs": [],
   "source": [
    "features_data = features_data.sort('timestamp')"
   ]
  },
  {
   "cell_type": "code",
   "execution_count": null,
   "metadata": {
    "collapsed": false
   },
   "outputs": [],
   "source": [
    "features_data.head()"
   ]
  },
  {
   "cell_type": "code",
   "execution_count": null,
   "metadata": {
    "collapsed": false
   },
   "outputs": [],
   "source": [
    "features_data.tail(3)"
   ]
  },
  {
   "cell_type": "code",
   "execution_count": null,
   "metadata": {
    "collapsed": true
   },
   "outputs": [],
   "source": [
    "n_samples = len(features_data)"
   ]
  },
  {
   "cell_type": "code",
   "execution_count": null,
   "metadata": {
    "collapsed": true
   },
   "outputs": [],
   "source": [
    "outlier_fraction = 0.2"
   ]
  },
  {
   "cell_type": "code",
   "execution_count": null,
   "metadata": {
    "collapsed": true
   },
   "outputs": [],
   "source": []
  }
 ],
 "metadata": {
  "kernelspec": {
   "display_name": "Python 2",
   "language": "python",
   "name": "python2"
  },
  "language_info": {
   "codemirror_mode": {
    "name": "ipython",
    "version": 2
   },
   "file_extension": ".py",
   "mimetype": "text/x-python",
   "name": "python",
   "nbconvert_exporter": "python",
   "pygments_lexer": "ipython2",
   "version": "2.7.13"
  }
 },
 "nbformat": 4,
 "nbformat_minor": 2
}
